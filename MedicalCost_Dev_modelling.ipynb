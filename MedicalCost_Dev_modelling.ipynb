{
 "cells": [
  {
   "cell_type": "code",
   "execution_count": 1,
   "metadata": {},
   "outputs": [],
   "source": [
    "import pandas as pd\n",
    "import numpy as np\n",
    "import matplotlib.pyplot as plt\n",
    "import seaborn as sns\n",
    "import statsmodels.api as sm\n",
    "sns.set()"
   ]
  },
  {
   "cell_type": "code",
   "execution_count": 2,
   "metadata": {},
   "outputs": [],
   "source": [
    "#import dataframes\n",
    "df = pd.read_csv('df.csv')\n",
    "dfdummy = pd.read_csv('dfdummy.csv')"
   ]
  },
  {
   "cell_type": "code",
   "execution_count": 3,
   "metadata": {},
   "outputs": [],
   "source": [
    "#train test split\n",
    "from sklearn.model_selection import train_test_split\n",
    "\n",
    "features = dfdummy.drop('charges', axis =1)\n",
    "target = dfdummy.charges.values\n",
    "\n",
    "X_train, X_test, y_train, y_test = train_test_split(features, target, test_size=0.2)"
   ]
  },
  {
   "cell_type": "code",
   "execution_count": 4,
   "metadata": {},
   "outputs": [],
   "source": [
    "#train validation split\n",
    "#X_train, X_val, y_train, y_val = train_test_split(X_train,y_train,shuffle=True,test_size=0.225) #0.225 x 0.9 = 0.20"
   ]
  },
  {
   "cell_type": "markdown",
   "metadata": {},
   "source": [
    "# Multiple Linear Regression"
   ]
  },
  {
   "cell_type": "code",
   "execution_count": 5,
   "metadata": {},
   "outputs": [],
   "source": [
    "from sklearn.linear_model import LinearRegression\n",
    "from sklearn.model_selection import cross_val_score\n",
    "from sklearn.metrics import r2_score\n",
    "from sklearn.metrics import mean_squared_error\n",
    "from sklearn.preprocessing import StandardScaler\n",
    "from sklearn.preprocessing import PolynomialFeatures\n",
    "from sklearn.linear_model import Lasso"
   ]
  },
  {
   "cell_type": "code",
   "execution_count": 76,
   "metadata": {},
   "outputs": [],
   "source": [
    "def model_eval(alg):\n",
    "    #predict\n",
    "    y_train_pred = alg.predict(X_train)\n",
    "    y_test_pred = alg.predict(X_test)\n",
    "    \n",
    "    #scores and errors\n",
    "    print(\"Train R2 Score:\", r2_score(y_train, y_train_pred))\n",
    "    print(\"Test R2 Score:,\", r2_score(y_test, y_test_pred))\n",
    "    train_rmse = np.sqrt(mean_squared_error(y_train, y_train_pred))\n",
    "    test_rmse = np.sqrt(mean_squared_error(y_test, y_test_pred))\n",
    "    print(\"Train RMSE: %.4f\" % train_rmse)\n",
    "    print(\"Test RMSE: %.4f\" % test_rmse)"
   ]
  },
  {
   "cell_type": "code",
   "execution_count": 20,
   "metadata": {
    "scrolled": true
   },
   "outputs": [
    {
     "name": "stdout",
     "output_type": "stream",
     "text": [
      "CV Linear Regression R2 Score: 0.7634917899088626\n"
     ]
    }
   ],
   "source": [
    "#cross validation\n",
    "cv_linreg=np.mean(cross_val_score(LinearRegression(), X_train, y_train, scoring='r2', cv=5))\n",
    "print(\"CV Linear Regression R2 Score:\", cv_linreg)"
   ]
  },
  {
   "cell_type": "code",
   "execution_count": 7,
   "metadata": {},
   "outputs": [
    {
     "name": "stdout",
     "output_type": "stream",
     "text": [
      "Intercept: 5819.479420170084\n"
     ]
    }
   ],
   "source": [
    "#train the algorithm\n",
    "linreg = LinearRegression().fit(X_train, y_train)\n",
    "\n",
    "#intercept:\n",
    "print('Intercept:',linreg.intercept_)"
   ]
  },
  {
   "cell_type": "code",
   "execution_count": 9,
   "metadata": {
    "scrolled": true
   },
   "outputs": [
    {
     "name": "stdout",
     "output_type": "stream",
     "text": [
      "Train R2 Score: 0.7706401070063509\n",
      "Test R2 Score:, 0.6822684542801885\n",
      "Train RMSE: 5912.9926\n",
      "Test RMSE: 6226.0428\n"
     ]
    }
   ],
   "source": [
    "#model evaluation\n",
    "model_eval(linreg, X_train, y_train)"
   ]
  },
  {
   "cell_type": "code",
   "execution_count": 11,
   "metadata": {},
   "outputs": [
    {
     "data": {
      "text/plain": [
       "Text(0, 0.5, 'Charges')"
      ]
     },
     "execution_count": 11,
     "metadata": {},
     "output_type": "execute_result"
    },
    {
     "data": {
      "image/png": "[encoded data removed]",
      "text/plain": [
       "<Figure size 720x504 with 1 Axes>"
      ]
     },
     "metadata": {},
     "output_type": "display_data"
    }
   ],
   "source": [
    "#compare actual and predicted values\n",
    "df_compare = pd.DataFrame({'Actual': y_test, 'Predicted': linreg.predict(X_test)})\n",
    "df_compare_graph=df_compare.head(20)\n",
    "\n",
    "#barplot of first 20 values of predicted and actual values\n",
    "df_compare_graph.plot.bar(figsize=(10,7))\n",
    "plt.title('Actual vs Predicted Comparison', fontsize=18)\n",
    "plt.xlabel('First 20 values/rows')\n",
    "plt.ylabel('Charges')"
   ]
  },
  {
   "cell_type": "markdown",
   "metadata": {},
   "source": [
    "### Feature Scaling / Data Normalization"
   ]
  },
  {
   "cell_type": "code",
   "execution_count": 12,
   "metadata": {
    "scrolled": true
   },
   "outputs": [
    {
     "data": {
      "text/plain": [
       "min    18\n",
       "max    64\n",
       "Name: age, dtype: int64"
      ]
     },
     "execution_count": 12,
     "metadata": {},
     "output_type": "execute_result"
    }
   ],
   "source": [
    "dfdummy.age.agg(['min','max'])"
   ]
  },
  {
   "cell_type": "code",
   "execution_count": 13,
   "metadata": {
    "scrolled": true
   },
   "outputs": [
    {
     "data": {
      "text/plain": [
       "min    15.96\n",
       "max    53.13\n",
       "Name: bmi, dtype: float64"
      ]
     },
     "execution_count": 13,
     "metadata": {},
     "output_type": "execute_result"
    }
   ],
   "source": [
    "dfdummy.bmi.agg(['min','max'])"
   ]
  },
  {
   "cell_type": "code",
   "execution_count": 14,
   "metadata": {
    "scrolled": true
   },
   "outputs": [
    {
     "data": {
      "text/plain": [
       "min     1121.87390\n",
       "max    63770.42801\n",
       "Name: charges, dtype: float64"
      ]
     },
     "execution_count": 14,
     "metadata": {},
     "output_type": "execute_result"
    }
   ],
   "source": [
    "dfdummy.charges.agg(['min','max'])"
   ]
  },
  {
   "cell_type": "code",
   "execution_count": 15,
   "metadata": {},
   "outputs": [
    {
     "data": {
      "text/plain": [
       "<matplotlib.axes._subplots.AxesSubplot at 0x105c0a390>"
      ]
     },
     "execution_count": 15,
     "metadata": {},
     "output_type": "execute_result"
    },
    {
     "data": {
      "image/png": "[encoded data removed]",
      "text/plain": [
       "<Figure size 936x432 with 2 Axes>"
      ]
     },
     "metadata": {},
     "output_type": "display_data"
    }
   ],
   "source": [
    "standard_scaler = StandardScaler()\n",
    "\n",
    "scaled_df = pd.DataFrame(dfdummy)\n",
    "\n",
    "std_charges = standard_scaler.fit_transform(scaled_df[['charges']])\n",
    "std_bmi = standard_scaler.fit_transform(scaled_df[['bmi']])\n",
    "std_age = standard_scaler.fit_transform(scaled_df[['age']])\n",
    "\n",
    "scaled_df['age'] = std_age\n",
    "scaled_df['bmi'] = std_bmi\n",
    "scaled_df['charges'] = std_charges\n",
    "\n",
    "fig, (ax1, ax2) = plt.subplots(ncols=2, figsize=(13, 6))\n",
    "\n",
    "ax1.set_title('Before Feature Scaling',fontsize=18)\n",
    "sns.kdeplot(dfdummy['age'], ax=ax1)\n",
    "sns.kdeplot(dfdummy['bmi'], ax=ax1)\n",
    "sns.kdeplot(dfdummy['charges'], ax=ax1)\n",
    "ax2.set_title('After Feature Scaling',fontsize=18)\n",
    "sns.kdeplot(scaled_df['age'], ax=ax2)\n",
    "sns.kdeplot(scaled_df['bmi'], ax=ax2)\n",
    "sns.kdeplot(scaled_df['charges'], ax=ax2)"
   ]
  },
  {
   "cell_type": "code",
   "execution_count": 16,
   "metadata": {
    "scrolled": true
   },
   "outputs": [
    {
     "data": {
      "text/plain": [
       "<matplotlib.axes._subplots.AxesSubplot at 0x1a25450850>"
      ]
     },
     "execution_count": 16,
     "metadata": {},
     "output_type": "execute_result"
    },
    {
     "data": {
      "image/png": "[encoded data removed]",
      "text/plain": [
       "<Figure size 432x288 with 1 Axes>"
      ]
     },
     "metadata": {},
     "output_type": "display_data"
    }
   ],
   "source": [
    "sns.distplot(scaled_df,color='dodgerblue',bins=20)"
   ]
  },
  {
   "cell_type": "markdown",
   "metadata": {},
   "source": [
    "# Polynomial Regression"
   ]
  },
  {
   "cell_type": "code",
   "execution_count": 17,
   "metadata": {},
   "outputs": [],
   "source": [
    "def create_polynomial_regression_model(degree):\n",
    "    \"\"\"\n",
    "    Creates a polynomial regression model for the given degree\n",
    "    :param degree: integer\n",
    "    :return: r2 score and rmse\n",
    "    \"\"\"\n",
    "  \n",
    "    poly_features = PolynomialFeatures(degree=degree)\n",
    "\n",
    "    # transforms the existing features to higher degree features\n",
    "    X_train_poly = poly_features.fit_transform(X_train)\n",
    "\n",
    "    # fit the transformed features to Linear Regression\n",
    "    poly_model = LinearRegression()\n",
    "    poly_model.fit(X_train_poly, y_train)\n",
    "\n",
    "    # predicting on training data-set\n",
    "    y_train_predict = poly_model.predict(X_train_poly)\n",
    "\n",
    "    # predicting on test data-set\n",
    "    y_test_predict = poly_model.predict(poly_features.fit_transform(X_test))\n",
    "\n",
    "    # evaluating the model on training dataset\n",
    "    rmse_train = np.sqrt(mean_squared_error(y_train, y_train_predict))\n",
    "    r2_train = r2_score(y_train, y_train_predict)\n",
    "\n",
    "    # evaluating the model on test dataset\n",
    "    rmse_test = np.sqrt(mean_squared_error(y_test, y_test_predict))\n",
    "    r2_test = r2_score(y_test, y_test_predict)\n",
    "\n",
    "    print(\"Polynomial Regression with degree of\", degree, '\\n')\n",
    "    print(\"Train R2 score: {}\".format(r2_train))\n",
    "    print(\"Test R2 score: {}\".format(r2_test))\n",
    "    print(\"Train RMSE: {}\".format(rmse_train))\n",
    "    print(\"Test RMSE: {}\".format(rmse_test))"
   ]
  },
  {
   "cell_type": "code",
   "execution_count": 18,
   "metadata": {
    "scrolled": true
   },
   "outputs": [
    {
     "name": "stdout",
     "output_type": "stream",
     "text": [
      "Polynomial Regression with degree of 2 \n",
      "\n",
      "Train R2 score: 0.8868061818925435\n",
      "Test R2 score: 0.7952583797239499\n",
      "Train RMSE: 4153.937451223817\n",
      "Test RMSE: 4997.870569951244\n"
     ]
    }
   ],
   "source": [
    "#test degree 2\n",
    "create_polynomial_regression_model(2)"
   ]
  },
  {
   "cell_type": "code",
   "execution_count": 19,
   "metadata": {
    "scrolled": true
   },
   "outputs": [
    {
     "name": "stdout",
     "output_type": "stream",
     "text": [
      "Polynomial Regression with degree of 3 \n",
      "\n",
      "Train R2 score: 0.9001218916715137\n",
      "Test R2 score: -1942471914579.7546\n",
      "Train RMSE: 3901.968439165957\n",
      "Test RMSE: 15394277507.522825\n"
     ]
    }
   ],
   "source": [
    "#test degree 3\n",
    "create_polynomial_regression_model(3)"
   ]
  },
  {
   "cell_type": "code",
   "execution_count": 21,
   "metadata": {},
   "outputs": [
    {
     "name": "stdout",
     "output_type": "stream",
     "text": [
      "CV Polynomial Regression R2 Score: 0.7382219289269372\n"
     ]
    }
   ],
   "source": [
    "#degree 2 gave best score\n",
    "#cross validation\n",
    "poly_reg = PolynomialFeatures(degree = 2)\n",
    "X_train_poly = poly_reg.fit_transform(X_train)\n",
    "poly_reg.fit(X_train_poly, y_train)\n",
    "\n",
    "regressor_poly2 = LinearRegression()\n",
    "regressor_poly2.fit(X_train_poly, y_train)\n",
    "cv_poly=np.mean(cross_val_score(regressor_poly2, X_train_poly, y_train, scoring='r2',cv = 5))\n",
    "print(\"CV Polynomial Regression R2 Score:\", cv_poly)"
   ]
  },
  {
   "cell_type": "markdown",
   "metadata": {},
   "source": [
    "# Lasso Regression"
   ]
  },
  {
   "cell_type": "code",
   "execution_count": 22,
   "metadata": {},
   "outputs": [
    {
     "name": "stdout",
     "output_type": "stream",
     "text": [
      "CV Lasso Regression R2 Score: 0.7635756065323271\n"
     ]
    }
   ],
   "source": [
    "#cross validation\n",
    "cv_lasso=np.mean(cross_val_score(Lasso(),X_train,y_train, scoring = 'r2', cv=5))\n",
    "print(\"CV Lasso Regression R2 Score:\", cv_lasso)"
   ]
  },
  {
   "cell_type": "code",
   "execution_count": 23,
   "metadata": {},
   "outputs": [
    {
     "name": "stdout",
     "output_type": "stream",
     "text": [
      "Train R2 Score: 0.7706389234628741\n",
      "Test R2 Score:, 0.6822484419535169\n",
      "Train RMSE: 5913.0079\n",
      "Test RMSE: 6226.2389\n"
     ]
    }
   ],
   "source": [
    "#model performance\n",
    "lasso = Lasso()\n",
    "lasso.fit(X_train,y_train)\n",
    "model_eval(lasso,X_train, y_train)"
   ]
  },
  {
   "cell_type": "code",
   "execution_count": 24,
   "metadata": {
    "scrolled": true
   },
   "outputs": [
    {
     "name": "stdout",
     "output_type": "stream",
     "text": [
      "{'alpha': 20}\n",
      "0.7627926287978453\n"
     ]
    }
   ],
   "source": [
    "#find best param\n",
    "from sklearn.model_selection import GridSearchCV\n",
    "\n",
    "lasso= Lasso(tol=1)\n",
    "param={\n",
    "    'alpha': [1e-15, 1e-10, 1e-8, 1e-4, 1e-3, 1e-2, 1, 5, 10, 20]\n",
    "}\n",
    "grid=GridSearchCV(lasso, param, scoring='r2', cv=5).fit(X_train,y_train)\n",
    "\n",
    "print(grid.best_params_)\n",
    "print(grid.best_score_)"
   ]
  },
  {
   "cell_type": "code",
   "execution_count": 25,
   "metadata": {},
   "outputs": [
    {
     "name": "stdout",
     "output_type": "stream",
     "text": [
      "Train R2 Score: 0.7688207607072034\n",
      "Test R2 Score:, 0.6793717467590837\n",
      "Train RMSE: 5936.3980\n",
      "Test RMSE: 6254.3594\n"
     ]
    }
   ],
   "source": [
    "#performance\n",
    "model_eval(grid,X_train,y_train)"
   ]
  },
  {
   "cell_type": "markdown",
   "metadata": {},
   "source": [
    "## Model Validation"
   ]
  },
  {
   "cell_type": "markdown",
   "metadata": {},
   "source": [
    "### Linearity"
   ]
  },
  {
   "cell_type": "markdown",
   "metadata": {},
   "source": [
    "#### Relationship between the features and target variable should be linear."
   ]
  },
  {
   "cell_type": "code",
   "execution_count": 26,
   "metadata": {},
   "outputs": [
    {
     "data": {
      "text/plain": [
       "Text(0.5, 1.0, 'Actual vs. Predicted')"
      ]
     },
     "execution_count": 26,
     "metadata": {},
     "output_type": "execute_result"
    },
    {
     "data": {
      "image/png": "[encoded data removed]",
      "text/plain": [
       "<Figure size 576x432 with 1 Axes>"
      ]
     },
     "metadata": {},
     "output_type": "display_data"
    }
   ],
   "source": [
    "#plot actual vs predicted values\n",
    "plt.figure(figsize=(8,6))\n",
    "sns.scatterplot(x='Actual', y='Predicted', data=df_compare, color=\"royalblue\")\n",
    "        \n",
    "#plot diagonal line\n",
    "line_coords = np.arange(df_compare.min().min(), df_compare.max().max())\n",
    "plt.plot(line_coords, line_coords,  # X and y points\n",
    "         color='palevioletred', linestyle='--')\n",
    "plt.title('Actual vs. Predicted', fontsize=18)"
   ]
  },
  {
   "cell_type": "markdown",
   "metadata": {},
   "source": [
    "### Residual Error Distribution and Mean"
   ]
  },
  {
   "cell_type": "markdown",
   "metadata": {},
   "source": [
    "#### Residual error plot should be normally distributed with a mean of (or close to) 0."
   ]
  },
  {
   "cell_type": "code",
   "execution_count": 25,
   "metadata": {},
   "outputs": [],
   "source": [
    "#check histogram and p value from Anderson Darling test for normality"
   ]
  },
  {
   "cell_type": "code",
   "execution_count": 27,
   "metadata": {},
   "outputs": [],
   "source": [
    "df_compare['Residuals'] = abs(df_compare['Actual']) - abs(df_compare['Predicted'])"
   ]
  },
  {
   "cell_type": "code",
   "execution_count": 28,
   "metadata": {},
   "outputs": [
    {
     "data": {
      "text/plain": [
       "-207.5731039594692"
      ]
     },
     "execution_count": 28,
     "metadata": {},
     "output_type": "execute_result"
    }
   ],
   "source": [
    "df_compare.Residuals.mean()"
   ]
  },
  {
   "cell_type": "code",
   "execution_count": 29,
   "metadata": {},
   "outputs": [
    {
     "name": "stdout",
     "output_type": "stream",
     "text": [
      "p-value from the test - below 0.05 generally means non-normal: 5.0559650777625794e-23\n",
      "Residuals are not normally distributed\n",
      "\n",
      "Assumption not satisfied\n",
      "\n",
      "Confidence intervals will likely be affected\n",
      "Try performing nonlinear transformations on variables\n"
     ]
    },
    {
     "data": {
      "image/png": "[encoded data removed]",
      "text/plain": [
       "<Figure size 720x432 with 1 Axes>"
      ]
     },
     "metadata": {},
     "output_type": "display_data"
    }
   ],
   "source": [
    "from statsmodels.stats.diagnostic import normal_ad\n",
    "p_value_thresh=0.05\n",
    "# Performing the test on the residuals\n",
    "p_value = normal_ad(df_compare['Residuals'])[1]\n",
    "print('p-value from the test - below 0.05 generally means non-normal:', p_value)\n",
    "    \n",
    "# Reporting the normality of the residuals\n",
    "if p_value < p_value_thresh:\n",
    "    print('Residuals are not normally distributed')\n",
    "else:\n",
    "    print('Residuals are normally distributed')\n",
    "    \n",
    "# Plot the residuals distribution and mean\n",
    "fig = plt.figure(figsize=(10,6))\n",
    "ax = fig.subplots()\n",
    "plt.title('Distribution of Residuals', fontsize=18)\n",
    "sns.distplot(df_compare.Residuals, ax=ax, color='mediumaquamarine')\n",
    "ax.axvline(df_compare.Residuals.mean(), color='k', linestyle='--')\n",
    "\n",
    "print()\n",
    "if p_value > p_value_thresh:\n",
    "    print('Assumption satisfied')\n",
    "else:\n",
    "    print('Assumption not satisfied')\n",
    "    print()\n",
    "    print('Confidence intervals will likely be affected')\n",
    "    print('Try performing nonlinear transformations on variables')"
   ]
  },
  {
   "cell_type": "code",
   "execution_count": 30,
   "metadata": {},
   "outputs": [],
   "source": [
    "# model is biasing toward underestimating"
   ]
  },
  {
   "cell_type": "markdown",
   "metadata": {},
   "source": [
    "### Multicollinearity"
   ]
  },
  {
   "cell_type": "markdown",
   "metadata": {},
   "source": [
    "#### Predictors should not be correlated with each other"
   ]
  },
  {
   "cell_type": "code",
   "execution_count": 31,
   "metadata": {},
   "outputs": [],
   "source": [
    "#Variance Inflation Factor"
   ]
  },
  {
   "cell_type": "code",
   "execution_count": 33,
   "metadata": {},
   "outputs": [
    {
     "name": "stdout",
     "output_type": "stream",
     "text": [
      "VIF: 3.147311034963586 \n",
      "\n",
      "Moderately Correlated\n"
     ]
    }
   ],
   "source": [
    "VIF = 1/(1- (r2_score(y_test, linreg.predict(X_test))))\n",
    "print(\"VIF:\", VIF, \"\\n\")\n",
    "\n",
    "if VIF == 1:\n",
    "    print(\"No Correlation\")\n",
    "elif VIF > 1 and VIF <5:\n",
    "    print(\"Moderately Correlated\")\n",
    "else:\n",
    "    print(\"High Level of Multicollinearity\")"
   ]
  },
  {
   "cell_type": "code",
   "execution_count": 34,
   "metadata": {},
   "outputs": [],
   "source": [
    "columns = X_train.columns\n",
    "predictors = X_train.values"
   ]
  },
  {
   "cell_type": "code",
   "execution_count": 35,
   "metadata": {},
   "outputs": [
    {
     "data": {
      "image/png": "[encoded data removed]",
      "text/plain": [
       "<Figure size 1008x864 with 2 Axes>"
      ]
     },
     "metadata": {},
     "output_type": "display_data"
    },
    {
     "name": "stdout",
     "output_type": "stream",
     "text": [
      "Variance Inflation Factors (VIF)\n",
      "> 10: An indication that multicollinearity may be present\n",
      "> 100: Certain multicollinearity among the variables\n",
      "-------------------------------------\n"
     ]
    },
    {
     "name": "stderr",
     "output_type": "stream",
     "text": [
      "/opt/anaconda3/lib/python3.7/site-packages/statsmodels/stats/outliers_influence.py:193: RuntimeWarning: divide by zero encountered in double_scalars\n",
      "  vif = 1. / (1. - r_squared_i)\n"
     ]
    },
    {
     "name": "stdout",
     "output_type": "stream",
     "text": [
      "age: 4.9103284603914545\n",
      "bmi: 3.7780057959631113\n",
      "children: 1.0546222067549942\n",
      "sex_female: inf\n",
      "sex_male: inf\n",
      "smoker_no: inf\n",
      "smoker_yes: inf\n",
      "region_northeast: inf\n",
      "region_northwest: inf\n",
      "region_southeast: inf\n",
      "region_southwest: inf\n",
      "bmi_cat_normal: inf\n",
      "bmi_cat_obese: inf\n",
      "bmi_cat_overweight: inf\n",
      "bmi_cat_underweight: inf\n",
      "age_cat_adult: inf\n",
      "age_cat_middle_age: inf\n",
      "age_cat_youth: inf\n",
      "\n",
      "15 cases of possible multicollinearity\n",
      "15 cases of definite multicollinearity\n",
      "\n",
      "Assumption not satisfied\n",
      "\n",
      "Coefficient interpretability will be problematic\n",
      "Consider removing variables with a high Variance Inflation Factor (VIF)\n"
     ]
    }
   ],
   "source": [
    "from statsmodels.stats.outliers_influence import variance_inflation_factor\n",
    "        \n",
    "# Plotting the heatmap\n",
    "plt.figure(figsize = (14,12))\n",
    "sns.heatmap(pd.DataFrame(predictors, columns=columns).corr(), annot=True)\n",
    "plt.title('Correlation of Variables',fontsize=18)\n",
    "plt.show()\n",
    "        \n",
    "print('Variance Inflation Factors (VIF)')\n",
    "print('> 10: An indication that multicollinearity may be present')\n",
    "print('> 100: Certain multicollinearity among the variables')\n",
    "print('-------------------------------------')\n",
    "       \n",
    "# Gathering the VIF for each variable\n",
    "VIF = [variance_inflation_factor(predictors, i) for i in range(X_train.shape[1])]\n",
    "for idx, vif in enumerate(VIF):\n",
    "    print('{0}: {1}'.format(columns[idx], vif))\n",
    "        \n",
    "# Gathering and printing total cases of possible or definite multicollinearity\n",
    "possible_multicollinearity = sum([1 for vif in VIF if vif > 10])\n",
    "definite_multicollinearity = sum([1 for vif in VIF if vif > 100])\n",
    "print()\n",
    "print('{0} cases of possible multicollinearity'.format(possible_multicollinearity))\n",
    "print('{0} cases of definite multicollinearity'.format(definite_multicollinearity))\n",
    "print()\n",
    "\n",
    "if definite_multicollinearity == 0:\n",
    "    if possible_multicollinearity == 0:\n",
    "        print('Assumption satisfied')\n",
    "    else:\n",
    "        print('Assumption possibly satisfied')\n",
    "        print()\n",
    "        print('Coefficient interpretability may be problematic')\n",
    "        print('Consider removing variables with a high Variance Inflation Factor (VIF)')\n",
    "\n",
    "else:\n",
    "    print('Assumption not satisfied')\n",
    "    print()\n",
    "    print('Coefficient interpretability will be problematic')\n",
    "    print('Consider removing variables with a high Variance Inflation Factor (VIF)')"
   ]
  },
  {
   "cell_type": "markdown",
   "metadata": {},
   "source": [
    "### Autocorrelation"
   ]
  },
  {
   "cell_type": "markdown",
   "metadata": {},
   "source": [
    "#### There should be no autocorrelation in the residuals"
   ]
  },
  {
   "cell_type": "code",
   "execution_count": 36,
   "metadata": {},
   "outputs": [
    {
     "name": "stdout",
     "output_type": "stream",
     "text": [
      "Assumption 4: No Autocorrelation \n",
      "\n",
      "Values of 1.5 < d < 2.5 generally show that there is no autocorrelation in the data\n",
      "0 to 2< is positive autocorrelation\n",
      ">2 to 4 is negative autocorrelation\n",
      "-------------------------------------\n",
      "Durbin-Watson: 1.8960127334775\n",
      "Little to no autocorrelation \n",
      "\n",
      "Assumption satisfied\n"
     ]
    }
   ],
   "source": [
    "from statsmodels.stats.stattools import durbin_watson\n",
    "print('Assumption 4: No Autocorrelation', '\\n')\n",
    "\n",
    "print('Values of 1.5 < d < 2.5 generally show that there is no autocorrelation in the data')\n",
    "print('0 to 2< is positive autocorrelation')\n",
    "print('>2 to 4 is negative autocorrelation')\n",
    "print('-------------------------------------')\n",
    "durbinWatson = durbin_watson(df_compare['Residuals'])\n",
    "print('Durbin-Watson:', durbinWatson)\n",
    "if durbinWatson < 1.5:\n",
    "    print('Signs of positive autocorrelation', '\\n')\n",
    "    print('Assumption not satisfied')\n",
    "elif durbinWatson > 2.5:\n",
    "    print('Signs of negative autocorrelation', '\\n')\n",
    "    print('Assumption not satisfied')\n",
    "else:\n",
    "    print('Little to no autocorrelation', '\\n')\n",
    "    print('Assumption satisfied')"
   ]
  },
  {
   "cell_type": "markdown",
   "metadata": {},
   "source": [
    "### Homoscedasticity"
   ]
  },
  {
   "cell_type": "markdown",
   "metadata": {},
   "source": [
    "#### Residuals should have relative constant variance"
   ]
  },
  {
   "cell_type": "code",
   "execution_count": 38,
   "metadata": {},
   "outputs": [
    {
     "data": {
      "text/plain": [
       "<matplotlib.axes._subplots.AxesSubplot at 0x1a27b59c10>"
      ]
     },
     "execution_count": 38,
     "metadata": {},
     "output_type": "execute_result"
    },
    {
     "data": {
      "image/png": "[encoded data removed]",
      "text/plain": [
       "<Figure size 432x288 with 1 Axes>"
      ]
     },
     "metadata": {},
     "output_type": "display_data"
    }
   ],
   "source": [
    "#check residuals are equal across regression line\n",
    "sns.scatterplot(y = df_compare.Residuals, x= linreg.predict(X_test),color='r') "
   ]
  },
  {
   "cell_type": "code",
   "execution_count": 39,
   "metadata": {
    "scrolled": false
   },
   "outputs": [
    {
     "data": {
      "image/png": "[encoded data removed]",
      "text/plain": [
       "<Figure size 720x432 with 1 Axes>"
      ]
     },
     "metadata": {},
     "output_type": "display_data"
    }
   ],
   "source": [
    "# Plot the residuals\n",
    "plt.subplots(figsize=(10, 6))\n",
    "ax = plt.subplot(111)  # remove spines\n",
    "plt.scatter(x=df_compare.index, y=df_compare.Residuals, alpha=0.5)\n",
    "plt.plot(np.repeat(0, df_compare.index.max()), color='red', linestyle='--')\n",
    "ax.spines['right'].set_visible(False)  # Removing the right spine\n",
    "ax.spines['top'].set_visible(False)  # Removing the top spine\n",
    "plt.title('Residuals')\n",
    "plt.show()  "
   ]
  },
  {
   "cell_type": "code",
   "execution_count": 56,
   "metadata": {
    "scrolled": false
   },
   "outputs": [
    {
     "data": {
      "image/png": "[encoded data removed]",
      "text/plain": [
       "<Figure size 432x288 with 1 Axes>"
      ]
     },
     "metadata": {},
     "output_type": "display_data"
    }
   ],
   "source": [
    "#Multivariate normality \n",
    "#Quantile-Quantile plot \n",
    "from statsmodels.graphics.gofplots import qqplot\n",
    "ax=qqplot(df_compare.Residuals, fit=True,line='s',color='lightgreen')"
   ]
  },
  {
   "cell_type": "markdown",
   "metadata": {},
   "source": [
    "## Backward Elimination"
   ]
  },
  {
   "cell_type": "code",
   "execution_count": null,
   "metadata": {},
   "outputs": [],
   "source": [
    "#Significance Level = 0.05. If p-val > SL, remove predictor."
   ]
  },
  {
   "cell_type": "code",
   "execution_count": 57,
   "metadata": {},
   "outputs": [],
   "source": [
    "X_train_be=np.append(arr=np.ones([X_train.shape[0],1]).astype(int), values = X_train, axis = 1)"
   ]
  },
  {
   "cell_type": "code",
   "execution_count": 58,
   "metadata": {},
   "outputs": [],
   "source": [
    "#prepare X_train and X_test for Backward elimination\n",
    "X_train_B = np.append(np.ones((len(X_train),1)).astype(int),X_train,1)\n",
    "X_test_B = np.append(np.ones((len(X_test),1)).astype(int),X_test,1)"
   ]
  },
  {
   "cell_type": "code",
   "execution_count": 71,
   "metadata": {
    "scrolled": true
   },
   "outputs": [
    {
     "data": {
      "text/html": [
       "<table class=\"simpletable\">\n",
       "<caption>OLS Regression Results</caption>\n",
       "<tr>\n",
       "  <th>Dep. Variable:</th>            <td>y</td>        <th>  R-squared:         </th> <td>   0.757</td> \n",
       "</tr>\n",
       "<tr>\n",
       "  <th>Model:</th>                   <td>OLS</td>       <th>  Adj. R-squared:    </th> <td>   0.754</td> \n",
       "</tr>\n",
       "<tr>\n",
       "  <th>Method:</th>             <td>Least Squares</td>  <th>  F-statistic:       </th> <td>   252.6</td> \n",
       "</tr>\n",
       "<tr>\n",
       "  <th>Date:</th>             <td>Mon, 08 Jun 2020</td> <th>  Prob (F-statistic):</th> <td>5.85e-313</td>\n",
       "</tr>\n",
       "<tr>\n",
       "  <th>Time:</th>                 <td>20:41:15</td>     <th>  Log-Likelihood:    </th> <td> -10827.</td> \n",
       "</tr>\n",
       "<tr>\n",
       "  <th>No. Observations:</th>      <td>  1070</td>      <th>  AIC:               </th> <td>2.168e+04</td>\n",
       "</tr>\n",
       "<tr>\n",
       "  <th>Df Residuals:</th>          <td>  1056</td>      <th>  BIC:               </th> <td>2.175e+04</td>\n",
       "</tr>\n",
       "<tr>\n",
       "  <th>Df Model:</th>              <td>    13</td>      <th>                     </th>     <td> </td>    \n",
       "</tr>\n",
       "<tr>\n",
       "  <th>Covariance Type:</th>      <td>nonrobust</td>    <th>                     </th>     <td> </td>    \n",
       "</tr>\n",
       "</table>\n",
       "<table class=\"simpletable\">\n",
       "<tr>\n",
       "    <td></td>       <th>coef</th>     <th>std err</th>      <th>t</th>      <th>P>|t|</th>  <th>[0.025</th>    <th>0.975]</th>  \n",
       "</tr>\n",
       "<tr>\n",
       "  <th>const</th> <td> 1978.9170</td> <td>  670.425</td> <td>    2.952</td> <td> 0.003</td> <td>  663.401</td> <td> 3294.434</td>\n",
       "</tr>\n",
       "<tr>\n",
       "  <th>x1</th>    <td>  222.2449</td> <td>   28.997</td> <td>    7.664</td> <td> 0.000</td> <td>  165.347</td> <td>  279.143</td>\n",
       "</tr>\n",
       "<tr>\n",
       "  <th>x2</th>    <td>  150.4939</td> <td>   60.137</td> <td>    2.503</td> <td> 0.012</td> <td>   32.493</td> <td>  268.495</td>\n",
       "</tr>\n",
       "<tr>\n",
       "  <th>x3</th>    <td>  568.1266</td> <td>  156.339</td> <td>    3.634</td> <td> 0.000</td> <td>  261.356</td> <td>  874.897</td>\n",
       "</tr>\n",
       "<tr>\n",
       "  <th>x4</th>    <td> 1056.8954</td> <td>  384.516</td> <td>    2.749</td> <td> 0.006</td> <td>  302.392</td> <td> 1811.398</td>\n",
       "</tr>\n",
       "<tr>\n",
       "  <th>x5</th>    <td>  922.0217</td> <td>  382.181</td> <td>    2.413</td> <td> 0.016</td> <td>  172.101</td> <td> 1671.943</td>\n",
       "</tr>\n",
       "<tr>\n",
       "  <th>x6</th>    <td>-1.091e+04</td> <td>  385.658</td> <td>  -28.292</td> <td> 0.000</td> <td>-1.17e+04</td> <td>-1.02e+04</td>\n",
       "</tr>\n",
       "<tr>\n",
       "  <th>x7</th>    <td> 1.289e+04</td> <td>  425.848</td> <td>   30.269</td> <td> 0.000</td> <td> 1.21e+04</td> <td> 1.37e+04</td>\n",
       "</tr>\n",
       "<tr>\n",
       "  <th>x8</th>    <td> 1123.7102</td> <td>  356.386</td> <td>    3.153</td> <td> 0.002</td> <td>  424.404</td> <td> 1823.016</td>\n",
       "</tr>\n",
       "<tr>\n",
       "  <th>x9</th>    <td>  608.3336</td> <td>  346.094</td> <td>    1.758</td> <td> 0.079</td> <td>  -70.777</td> <td> 1287.444</td>\n",
       "</tr>\n",
       "<tr>\n",
       "  <th>x10</th>   <td>   46.4032</td> <td>  400.357</td> <td>    0.116</td> <td> 0.908</td> <td> -739.182</td> <td>  831.988</td>\n",
       "</tr>\n",
       "<tr>\n",
       "  <th>x11</th>   <td>  200.4699</td> <td>  364.480</td> <td>    0.550</td> <td> 0.582</td> <td> -514.718</td> <td>  915.658</td>\n",
       "</tr>\n",
       "<tr>\n",
       "  <th>x12</th>   <td> -747.3366</td> <td>  497.181</td> <td>   -1.503</td> <td> 0.133</td> <td>-1722.912</td> <td>  228.239</td>\n",
       "</tr>\n",
       "<tr>\n",
       "  <th>x13</th>   <td> 2609.0074</td> <td>  805.404</td> <td>    3.239</td> <td> 0.001</td> <td> 1028.633</td> <td> 4189.382</td>\n",
       "</tr>\n",
       "<tr>\n",
       "  <th>x14</th>   <td> -276.4931</td> <td>  513.162</td> <td>   -0.539</td> <td> 0.590</td> <td>-1283.427</td> <td>  730.441</td>\n",
       "</tr>\n",
       "<tr>\n",
       "  <th>x15</th>   <td>  393.7393</td> <td> 1164.711</td> <td>    0.338</td> <td> 0.735</td> <td>-1891.672</td> <td> 2679.151</td>\n",
       "</tr>\n",
       "<tr>\n",
       "  <th>x16</th>   <td>   82.8772</td> <td>  334.396</td> <td>    0.248</td> <td> 0.804</td> <td> -573.279</td> <td>  739.034</td>\n",
       "</tr>\n",
       "<tr>\n",
       "  <th>x17</th>   <td> 1372.8287</td> <td>  755.973</td> <td>    1.816</td> <td> 0.070</td> <td> -110.550</td> <td> 2856.208</td>\n",
       "</tr>\n",
       "<tr>\n",
       "  <th>x18</th>   <td>  523.2112</td> <td>  586.536</td> <td>    0.892</td> <td> 0.373</td> <td> -627.698</td> <td> 1674.120</td>\n",
       "</tr>\n",
       "</table>\n",
       "<table class=\"simpletable\">\n",
       "<tr>\n",
       "  <th>Omnibus:</th>       <td>280.477</td> <th>  Durbin-Watson:     </th> <td>   2.010</td> \n",
       "</tr>\n",
       "<tr>\n",
       "  <th>Prob(Omnibus):</th> <td> 0.000</td>  <th>  Jarque-Bera (JB):  </th> <td> 739.911</td> \n",
       "</tr>\n",
       "<tr>\n",
       "  <th>Skew:</th>          <td> 1.355</td>  <th>  Prob(JB):          </th> <td>2.14e-161</td>\n",
       "</tr>\n",
       "<tr>\n",
       "  <th>Kurtosis:</th>      <td> 6.042</td>  <th>  Cond. No.          </th> <td>1.01e+18</td> \n",
       "</tr>\n",
       "</table><br/><br/>Warnings:<br/>[1] Standard Errors assume that the covariance matrix of the errors is correctly specified.<br/>[2] The smallest eigenvalue is 2.75e-30. This might indicate that there are<br/>strong multicollinearity problems or that the design matrix is singular."
      ],
      "text/plain": [
       "<class 'statsmodels.iolib.summary.Summary'>\n",
       "\"\"\"\n",
       "                            OLS Regression Results                            \n",
       "==============================================================================\n",
       "Dep. Variable:                      y   R-squared:                       0.757\n",
       "Model:                            OLS   Adj. R-squared:                  0.754\n",
       "Method:                 Least Squares   F-statistic:                     252.6\n",
       "Date:                Mon, 08 Jun 2020   Prob (F-statistic):          5.85e-313\n",
       "Time:                        20:41:15   Log-Likelihood:                -10827.\n",
       "No. Observations:                1070   AIC:                         2.168e+04\n",
       "Df Residuals:                    1056   BIC:                         2.175e+04\n",
       "Df Model:                          13                                         \n",
       "Covariance Type:            nonrobust                                         \n",
       "==============================================================================\n",
       "                 coef    std err          t      P>|t|      [0.025      0.975]\n",
       "------------------------------------------------------------------------------\n",
       "const       1978.9170    670.425      2.952      0.003     663.401    3294.434\n",
       "x1           222.2449     28.997      7.664      0.000     165.347     279.143\n",
       "x2           150.4939     60.137      2.503      0.012      32.493     268.495\n",
       "x3           568.1266    156.339      3.634      0.000     261.356     874.897\n",
       "x4          1056.8954    384.516      2.749      0.006     302.392    1811.398\n",
       "x5           922.0217    382.181      2.413      0.016     172.101    1671.943\n",
       "x6         -1.091e+04    385.658    -28.292      0.000   -1.17e+04   -1.02e+04\n",
       "x7          1.289e+04    425.848     30.269      0.000    1.21e+04    1.37e+04\n",
       "x8          1123.7102    356.386      3.153      0.002     424.404    1823.016\n",
       "x9           608.3336    346.094      1.758      0.079     -70.777    1287.444\n",
       "x10           46.4032    400.357      0.116      0.908    -739.182     831.988\n",
       "x11          200.4699    364.480      0.550      0.582    -514.718     915.658\n",
       "x12         -747.3366    497.181     -1.503      0.133   -1722.912     228.239\n",
       "x13         2609.0074    805.404      3.239      0.001    1028.633    4189.382\n",
       "x14         -276.4931    513.162     -0.539      0.590   -1283.427     730.441\n",
       "x15          393.7393   1164.711      0.338      0.735   -1891.672    2679.151\n",
       "x16           82.8772    334.396      0.248      0.804    -573.279     739.034\n",
       "x17         1372.8287    755.973      1.816      0.070    -110.550    2856.208\n",
       "x18          523.2112    586.536      0.892      0.373    -627.698    1674.120\n",
       "==============================================================================\n",
       "Omnibus:                      280.477   Durbin-Watson:                   2.010\n",
       "Prob(Omnibus):                  0.000   Jarque-Bera (JB):              739.911\n",
       "Skew:                           1.355   Prob(JB):                    2.14e-161\n",
       "Kurtosis:                       6.042   Cond. No.                     1.01e+18\n",
       "==============================================================================\n",
       "\n",
       "Warnings:\n",
       "[1] Standard Errors assume that the covariance matrix of the errors is correctly specified.\n",
       "[2] The smallest eigenvalue is 2.75e-30. This might indicate that there are\n",
       "strong multicollinearity problems or that the design matrix is singular.\n",
       "\"\"\""
      ]
     },
     "execution_count": 71,
     "metadata": {},
     "output_type": "execute_result"
    }
   ],
   "source": [
    "#fit model on all features\n",
    "X_opt=X_train_B[:,:]\n",
    "model_MLR=sm.OLS(endog=y_train,exog=X_opt).fit()\n",
    "model_MLR.summary()"
   ]
  },
  {
   "cell_type": "code",
   "execution_count": 72,
   "metadata": {
    "scrolled": true
   },
   "outputs": [
    {
     "data": {
      "text/html": [
       "<table class=\"simpletable\">\n",
       "<caption>OLS Regression Results</caption>\n",
       "<tr>\n",
       "  <th>Dep. Variable:</th>            <td>y</td>        <th>  R-squared:         </th> <td>   0.757</td> \n",
       "</tr>\n",
       "<tr>\n",
       "  <th>Model:</th>                   <td>OLS</td>       <th>  Adj. R-squared:    </th> <td>   0.754</td> \n",
       "</tr>\n",
       "<tr>\n",
       "  <th>Method:</th>             <td>Least Squares</td>  <th>  F-statistic:       </th> <td>   252.6</td> \n",
       "</tr>\n",
       "<tr>\n",
       "  <th>Date:</th>             <td>Mon, 08 Jun 2020</td> <th>  Prob (F-statistic):</th> <td>5.85e-313</td>\n",
       "</tr>\n",
       "<tr>\n",
       "  <th>Time:</th>                 <td>20:42:07</td>     <th>  Log-Likelihood:    </th> <td> -10827.</td> \n",
       "</tr>\n",
       "<tr>\n",
       "  <th>No. Observations:</th>      <td>  1070</td>      <th>  AIC:               </th> <td>2.168e+04</td>\n",
       "</tr>\n",
       "<tr>\n",
       "  <th>Df Residuals:</th>          <td>  1056</td>      <th>  BIC:               </th> <td>2.175e+04</td>\n",
       "</tr>\n",
       "<tr>\n",
       "  <th>Df Model:</th>              <td>    13</td>      <th>                     </th>     <td> </td>    \n",
       "</tr>\n",
       "<tr>\n",
       "  <th>Covariance Type:</th>      <td>nonrobust</td>    <th>                     </th>     <td> </td>    \n",
       "</tr>\n",
       "</table>\n",
       "<table class=\"simpletable\">\n",
       "<tr>\n",
       "    <td></td>       <th>coef</th>     <th>std err</th>      <th>t</th>      <th>P>|t|</th>  <th>[0.025</th>    <th>0.975]</th>  \n",
       "</tr>\n",
       "<tr>\n",
       "  <th>const</th> <td> 1996.8796</td> <td>  770.748</td> <td>    2.591</td> <td> 0.010</td> <td>  484.508</td> <td> 3509.251</td>\n",
       "</tr>\n",
       "<tr>\n",
       "  <th>x1</th>    <td>  222.2449</td> <td>   28.997</td> <td>    7.664</td> <td> 0.000</td> <td>  165.347</td> <td>  279.143</td>\n",
       "</tr>\n",
       "<tr>\n",
       "  <th>x2</th>    <td>  150.4939</td> <td>   60.137</td> <td>    2.503</td> <td> 0.012</td> <td>   32.493</td> <td>  268.495</td>\n",
       "</tr>\n",
       "<tr>\n",
       "  <th>x3</th>    <td>  568.1266</td> <td>  156.339</td> <td>    3.634</td> <td> 0.000</td> <td>  261.356</td> <td>  874.897</td>\n",
       "</tr>\n",
       "<tr>\n",
       "  <th>x4</th>    <td> 1065.8766</td> <td>  429.900</td> <td>    2.479</td> <td> 0.013</td> <td>  222.321</td> <td> 1909.432</td>\n",
       "</tr>\n",
       "<tr>\n",
       "  <th>x5</th>    <td>  931.0029</td> <td>  425.902</td> <td>    2.186</td> <td> 0.029</td> <td>   95.292</td> <td> 1766.714</td>\n",
       "</tr>\n",
       "<tr>\n",
       "  <th>x6</th>    <td> -1.09e+04</td> <td>  430.354</td> <td>  -25.333</td> <td> 0.000</td> <td>-1.17e+04</td> <td>-1.01e+04</td>\n",
       "</tr>\n",
       "<tr>\n",
       "  <th>x7</th>    <td>  1.29e+04</td> <td>  466.010</td> <td>   27.680</td> <td> 0.000</td> <td>  1.2e+04</td> <td> 1.38e+04</td>\n",
       "</tr>\n",
       "<tr>\n",
       "  <th>x8</th>    <td> 1077.3070</td> <td>  543.092</td> <td>    1.984</td> <td> 0.048</td> <td>   11.644</td> <td> 2142.970</td>\n",
       "</tr>\n",
       "<tr>\n",
       "  <th>x9</th>    <td>  561.9304</td> <td>  536.395</td> <td>    1.048</td> <td> 0.295</td> <td> -490.590</td> <td> 1614.451</td>\n",
       "</tr>\n",
       "<tr>\n",
       "  <th>x10</th>   <td>  154.0667</td> <td>  535.665</td> <td>    0.288</td> <td> 0.774</td> <td> -897.022</td> <td> 1205.156</td>\n",
       "</tr>\n",
       "<tr>\n",
       "  <th>x11</th>   <td> -742.8460</td> <td>  496.977</td> <td>   -1.495</td> <td> 0.135</td> <td>-1718.022</td> <td>  232.330</td>\n",
       "</tr>\n",
       "<tr>\n",
       "  <th>x12</th>   <td> 2613.4980</td> <td>  820.889</td> <td>    3.184</td> <td> 0.001</td> <td> 1002.740</td> <td> 4224.256</td>\n",
       "</tr>\n",
       "<tr>\n",
       "  <th>x13</th>   <td> -272.0024</td> <td>  523.859</td> <td>   -0.519</td> <td> 0.604</td> <td>-1299.924</td> <td>  755.920</td>\n",
       "</tr>\n",
       "<tr>\n",
       "  <th>x14</th>   <td>  398.2299</td> <td> 1164.743</td> <td>    0.342</td> <td> 0.732</td> <td>-1887.243</td> <td> 2683.703</td>\n",
       "</tr>\n",
       "<tr>\n",
       "  <th>x15</th>   <td>   88.8647</td> <td>  353.471</td> <td>    0.251</td> <td> 0.802</td> <td> -604.721</td> <td>  782.451</td>\n",
       "</tr>\n",
       "<tr>\n",
       "  <th>x16</th>   <td> 1378.8162</td> <td>  774.869</td> <td>    1.779</td> <td> 0.075</td> <td> -141.642</td> <td> 2899.275</td>\n",
       "</tr>\n",
       "<tr>\n",
       "  <th>x17</th>   <td>  529.1987</td> <td>  591.752</td> <td>    0.894</td> <td> 0.371</td> <td> -631.945</td> <td> 1690.342</td>\n",
       "</tr>\n",
       "</table>\n",
       "<table class=\"simpletable\">\n",
       "<tr>\n",
       "  <th>Omnibus:</th>       <td>280.477</td> <th>  Durbin-Watson:     </th> <td>   2.010</td> \n",
       "</tr>\n",
       "<tr>\n",
       "  <th>Prob(Omnibus):</th> <td> 0.000</td>  <th>  Jarque-Bera (JB):  </th> <td> 739.911</td> \n",
       "</tr>\n",
       "<tr>\n",
       "  <th>Skew:</th>          <td> 1.355</td>  <th>  Prob(JB):          </th> <td>2.14e-161</td>\n",
       "</tr>\n",
       "<tr>\n",
       "  <th>Kurtosis:</th>      <td> 6.042</td>  <th>  Cond. No.          </th> <td>6.08e+17</td> \n",
       "</tr>\n",
       "</table><br/><br/>Warnings:<br/>[1] Standard Errors assume that the covariance matrix of the errors is correctly specified.<br/>[2] The smallest eigenvalue is 7.6e-30. This might indicate that there are<br/>strong multicollinearity problems or that the design matrix is singular."
      ],
      "text/plain": [
       "<class 'statsmodels.iolib.summary.Summary'>\n",
       "\"\"\"\n",
       "                            OLS Regression Results                            \n",
       "==============================================================================\n",
       "Dep. Variable:                      y   R-squared:                       0.757\n",
       "Model:                            OLS   Adj. R-squared:                  0.754\n",
       "Method:                 Least Squares   F-statistic:                     252.6\n",
       "Date:                Mon, 08 Jun 2020   Prob (F-statistic):          5.85e-313\n",
       "Time:                        20:42:07   Log-Likelihood:                -10827.\n",
       "No. Observations:                1070   AIC:                         2.168e+04\n",
       "Df Residuals:                    1056   BIC:                         2.175e+04\n",
       "Df Model:                          13                                         \n",
       "Covariance Type:            nonrobust                                         \n",
       "==============================================================================\n",
       "                 coef    std err          t      P>|t|      [0.025      0.975]\n",
       "------------------------------------------------------------------------------\n",
       "const       1996.8796    770.748      2.591      0.010     484.508    3509.251\n",
       "x1           222.2449     28.997      7.664      0.000     165.347     279.143\n",
       "x2           150.4939     60.137      2.503      0.012      32.493     268.495\n",
       "x3           568.1266    156.339      3.634      0.000     261.356     874.897\n",
       "x4          1065.8766    429.900      2.479      0.013     222.321    1909.432\n",
       "x5           931.0029    425.902      2.186      0.029      95.292    1766.714\n",
       "x6          -1.09e+04    430.354    -25.333      0.000   -1.17e+04   -1.01e+04\n",
       "x7           1.29e+04    466.010     27.680      0.000     1.2e+04    1.38e+04\n",
       "x8          1077.3070    543.092      1.984      0.048      11.644    2142.970\n",
       "x9           561.9304    536.395      1.048      0.295    -490.590    1614.451\n",
       "x10          154.0667    535.665      0.288      0.774    -897.022    1205.156\n",
       "x11         -742.8460    496.977     -1.495      0.135   -1718.022     232.330\n",
       "x12         2613.4980    820.889      3.184      0.001    1002.740    4224.256\n",
       "x13         -272.0024    523.859     -0.519      0.604   -1299.924     755.920\n",
       "x14          398.2299   1164.743      0.342      0.732   -1887.243    2683.703\n",
       "x15           88.8647    353.471      0.251      0.802    -604.721     782.451\n",
       "x16         1378.8162    774.869      1.779      0.075    -141.642    2899.275\n",
       "x17          529.1987    591.752      0.894      0.371    -631.945    1690.342\n",
       "==============================================================================\n",
       "Omnibus:                      280.477   Durbin-Watson:                   2.010\n",
       "Prob(Omnibus):                  0.000   Jarque-Bera (JB):              739.911\n",
       "Skew:                           1.355   Prob(JB):                    2.14e-161\n",
       "Kurtosis:                       6.042   Cond. No.                     6.08e+17\n",
       "==============================================================================\n",
       "\n",
       "Warnings:\n",
       "[1] Standard Errors assume that the covariance matrix of the errors is correctly specified.\n",
       "[2] The smallest eigenvalue is 7.6e-30. This might indicate that there are\n",
       "strong multicollinearity problems or that the design matrix is singular.\n",
       "\"\"\""
      ]
     },
     "execution_count": 72,
     "metadata": {},
     "output_type": "execute_result"
    }
   ],
   "source": [
    "col_delete=10\n",
    "cols_keep=[]\n",
    "for x in range(X_opt.shape[1]):\n",
    "    if x != col_delete :\n",
    "        cols_keep.append(x)\n",
    "X_opt = X_opt[:,cols_keep]\n",
    "X_test_B = X_test_B[:,cols_keep]\n",
    "model_MLR=sm.OLS(endog=y_train,exog=X_opt).fit()\n",
    "model_MLR.summary()"
   ]
  },
  {
   "cell_type": "code",
   "execution_count": 73,
   "metadata": {
    "scrolled": true
   },
   "outputs": [
    {
     "data": {
      "text/html": [
       "<table class=\"simpletable\">\n",
       "<caption>OLS Regression Results</caption>\n",
       "<tr>\n",
       "  <th>Dep. Variable:</th>            <td>y</td>        <th>  R-squared:         </th> <td>   0.757</td> \n",
       "</tr>\n",
       "<tr>\n",
       "  <th>Model:</th>                   <td>OLS</td>       <th>  Adj. R-squared:    </th> <td>   0.754</td> \n",
       "</tr>\n",
       "<tr>\n",
       "  <th>Method:</th>             <td>Least Squares</td>  <th>  F-statistic:       </th> <td>   252.6</td> \n",
       "</tr>\n",
       "<tr>\n",
       "  <th>Date:</th>             <td>Mon, 08 Jun 2020</td> <th>  Prob (F-statistic):</th> <td>5.85e-313</td>\n",
       "</tr>\n",
       "<tr>\n",
       "  <th>Time:</th>                 <td>20:42:44</td>     <th>  Log-Likelihood:    </th> <td> -10827.</td> \n",
       "</tr>\n",
       "<tr>\n",
       "  <th>No. Observations:</th>      <td>  1070</td>      <th>  AIC:               </th> <td>2.168e+04</td>\n",
       "</tr>\n",
       "<tr>\n",
       "  <th>Df Residuals:</th>          <td>  1056</td>      <th>  BIC:               </th> <td>2.175e+04</td>\n",
       "</tr>\n",
       "<tr>\n",
       "  <th>Df Model:</th>              <td>    13</td>      <th>                     </th>     <td> </td>    \n",
       "</tr>\n",
       "<tr>\n",
       "  <th>Covariance Type:</th>      <td>nonrobust</td>    <th>                     </th>     <td> </td>    \n",
       "</tr>\n",
       "</table>\n",
       "<table class=\"simpletable\">\n",
       "<tr>\n",
       "    <td></td>       <th>coef</th>     <th>std err</th>      <th>t</th>      <th>P>|t|</th>  <th>[0.025</th>    <th>0.975]</th>  \n",
       "</tr>\n",
       "<tr>\n",
       "  <th>const</th> <td> 2036.3750</td> <td>  869.975</td> <td>    2.341</td> <td> 0.019</td> <td>  329.298</td> <td> 3743.452</td>\n",
       "</tr>\n",
       "<tr>\n",
       "  <th>x1</th>    <td>  222.2449</td> <td>   28.997</td> <td>    7.664</td> <td> 0.000</td> <td>  165.347</td> <td>  279.143</td>\n",
       "</tr>\n",
       "<tr>\n",
       "  <th>x2</th>    <td>  150.4939</td> <td>   60.137</td> <td>    2.503</td> <td> 0.012</td> <td>   32.493</td> <td>  268.495</td>\n",
       "</tr>\n",
       "<tr>\n",
       "  <th>x3</th>    <td>  568.1266</td> <td>  156.339</td> <td>    3.634</td> <td> 0.000</td> <td>  261.356</td> <td>  874.897</td>\n",
       "</tr>\n",
       "<tr>\n",
       "  <th>x4</th>    <td> 1085.6243</td> <td>  475.235</td> <td>    2.284</td> <td> 0.023</td> <td>  153.112</td> <td> 2018.137</td>\n",
       "</tr>\n",
       "<tr>\n",
       "  <th>x5</th>    <td>  950.7506</td> <td>  470.915</td> <td>    2.019</td> <td> 0.044</td> <td>   26.715</td> <td> 1874.786</td>\n",
       "</tr>\n",
       "<tr>\n",
       "  <th>x6</th>    <td>-1.088e+04</td> <td>  473.020</td> <td>  -23.006</td> <td> 0.000</td> <td>-1.18e+04</td> <td>-9954.271</td>\n",
       "</tr>\n",
       "<tr>\n",
       "  <th>x7</th>    <td> 1.292e+04</td> <td>  509.926</td> <td>   25.335</td> <td> 0.000</td> <td> 1.19e+04</td> <td> 1.39e+04</td>\n",
       "</tr>\n",
       "<tr>\n",
       "  <th>x8</th>    <td> 1077.3070</td> <td>  543.092</td> <td>    1.984</td> <td> 0.048</td> <td>   11.644</td> <td> 2142.970</td>\n",
       "</tr>\n",
       "<tr>\n",
       "  <th>x9</th>    <td>  561.9304</td> <td>  536.395</td> <td>    1.048</td> <td> 0.295</td> <td> -490.590</td> <td> 1614.451</td>\n",
       "</tr>\n",
       "<tr>\n",
       "  <th>x10</th>   <td>  154.0667</td> <td>  535.665</td> <td>    0.288</td> <td> 0.774</td> <td> -897.022</td> <td> 1205.156</td>\n",
       "</tr>\n",
       "<tr>\n",
       "  <th>x11</th>   <td> -732.9721</td> <td>  495.217</td> <td>   -1.480</td> <td> 0.139</td> <td>-1704.694</td> <td>  238.750</td>\n",
       "</tr>\n",
       "<tr>\n",
       "  <th>x12</th>   <td> 2623.3719</td> <td>  839.977</td> <td>    3.123</td> <td> 0.002</td> <td>  975.159</td> <td> 4271.585</td>\n",
       "</tr>\n",
       "<tr>\n",
       "  <th>x13</th>   <td> -262.1286</td> <td>  533.903</td> <td>   -0.491</td> <td> 0.624</td> <td>-1309.760</td> <td>  785.503</td>\n",
       "</tr>\n",
       "<tr>\n",
       "  <th>x14</th>   <td>  408.1038</td> <td> 1164.794</td> <td>    0.350</td> <td> 0.726</td> <td>-1877.471</td> <td> 2693.678</td>\n",
       "</tr>\n",
       "<tr>\n",
       "  <th>x15</th>   <td> 1289.9516</td> <td>  747.090</td> <td>    1.727</td> <td> 0.085</td> <td> -175.997</td> <td> 2755.900</td>\n",
       "</tr>\n",
       "<tr>\n",
       "  <th>x16</th>   <td>  440.3340</td> <td>  762.520</td> <td>    0.577</td> <td> 0.564</td> <td>-1055.894</td> <td> 1936.562</td>\n",
       "</tr>\n",
       "</table>\n",
       "<table class=\"simpletable\">\n",
       "<tr>\n",
       "  <th>Omnibus:</th>       <td>280.477</td> <th>  Durbin-Watson:     </th> <td>   2.010</td> \n",
       "</tr>\n",
       "<tr>\n",
       "  <th>Prob(Omnibus):</th> <td> 0.000</td>  <th>  Jarque-Bera (JB):  </th> <td> 739.911</td> \n",
       "</tr>\n",
       "<tr>\n",
       "  <th>Skew:</th>          <td> 1.355</td>  <th>  Prob(JB):          </th> <td>2.14e-161</td>\n",
       "</tr>\n",
       "<tr>\n",
       "  <th>Kurtosis:</th>      <td> 6.042</td>  <th>  Cond. No.          </th> <td>7.52e+17</td> \n",
       "</tr>\n",
       "</table><br/><br/>Warnings:<br/>[1] Standard Errors assume that the covariance matrix of the errors is correctly specified.<br/>[2] The smallest eigenvalue is 4.96e-30. This might indicate that there are<br/>strong multicollinearity problems or that the design matrix is singular."
      ],
      "text/plain": [
       "<class 'statsmodels.iolib.summary.Summary'>\n",
       "\"\"\"\n",
       "                            OLS Regression Results                            \n",
       "==============================================================================\n",
       "Dep. Variable:                      y   R-squared:                       0.757\n",
       "Model:                            OLS   Adj. R-squared:                  0.754\n",
       "Method:                 Least Squares   F-statistic:                     252.6\n",
       "Date:                Mon, 08 Jun 2020   Prob (F-statistic):          5.85e-313\n",
       "Time:                        20:42:44   Log-Likelihood:                -10827.\n",
       "No. Observations:                1070   AIC:                         2.168e+04\n",
       "Df Residuals:                    1056   BIC:                         2.175e+04\n",
       "Df Model:                          13                                         \n",
       "Covariance Type:            nonrobust                                         \n",
       "==============================================================================\n",
       "                 coef    std err          t      P>|t|      [0.025      0.975]\n",
       "------------------------------------------------------------------------------\n",
       "const       2036.3750    869.975      2.341      0.019     329.298    3743.452\n",
       "x1           222.2449     28.997      7.664      0.000     165.347     279.143\n",
       "x2           150.4939     60.137      2.503      0.012      32.493     268.495\n",
       "x3           568.1266    156.339      3.634      0.000     261.356     874.897\n",
       "x4          1085.6243    475.235      2.284      0.023     153.112    2018.137\n",
       "x5           950.7506    470.915      2.019      0.044      26.715    1874.786\n",
       "x6         -1.088e+04    473.020    -23.006      0.000   -1.18e+04   -9954.271\n",
       "x7          1.292e+04    509.926     25.335      0.000    1.19e+04    1.39e+04\n",
       "x8          1077.3070    543.092      1.984      0.048      11.644    2142.970\n",
       "x9           561.9304    536.395      1.048      0.295    -490.590    1614.451\n",
       "x10          154.0667    535.665      0.288      0.774    -897.022    1205.156\n",
       "x11         -732.9721    495.217     -1.480      0.139   -1704.694     238.750\n",
       "x12         2623.3719    839.977      3.123      0.002     975.159    4271.585\n",
       "x13         -262.1286    533.903     -0.491      0.624   -1309.760     785.503\n",
       "x14          408.1038   1164.794      0.350      0.726   -1877.471    2693.678\n",
       "x15         1289.9516    747.090      1.727      0.085    -175.997    2755.900\n",
       "x16          440.3340    762.520      0.577      0.564   -1055.894    1936.562\n",
       "==============================================================================\n",
       "Omnibus:                      280.477   Durbin-Watson:                   2.010\n",
       "Prob(Omnibus):                  0.000   Jarque-Bera (JB):              739.911\n",
       "Skew:                           1.355   Prob(JB):                    2.14e-161\n",
       "Kurtosis:                       6.042   Cond. No.                     7.52e+17\n",
       "==============================================================================\n",
       "\n",
       "Warnings:\n",
       "[1] Standard Errors assume that the covariance matrix of the errors is correctly specified.\n",
       "[2] The smallest eigenvalue is 4.96e-30. This might indicate that there are\n",
       "strong multicollinearity problems or that the design matrix is singular.\n",
       "\"\"\""
      ]
     },
     "execution_count": 73,
     "metadata": {},
     "output_type": "execute_result"
    }
   ],
   "source": [
    "col_delete=15\n",
    "cols_keep=[]\n",
    "for x in range(X_opt.shape[1]):\n",
    "    if x != col_delete :\n",
    "        cols_keep.append(x)\n",
    "X_opt = X_opt[:,cols_keep]\n",
    "X_test_B = X_test_B[:,cols_keep]\n",
    "model_MLR=sm.OLS(endog=y_train,exog=X_opt).fit()\n",
    "model_MLR.summary()"
   ]
  },
  {
   "cell_type": "code",
   "execution_count": 74,
   "metadata": {
    "scrolled": true
   },
   "outputs": [
    {
     "data": {
      "text/html": [
       "<table class=\"simpletable\">\n",
       "<caption>OLS Regression Results</caption>\n",
       "<tr>\n",
       "  <th>Dep. Variable:</th>            <td>y</td>        <th>  R-squared:         </th> <td>   0.757</td> \n",
       "</tr>\n",
       "<tr>\n",
       "  <th>Model:</th>                   <td>OLS</td>       <th>  Adj. R-squared:    </th> <td>   0.754</td> \n",
       "</tr>\n",
       "<tr>\n",
       "  <th>Method:</th>             <td>Least Squares</td>  <th>  F-statistic:       </th> <td>   273.9</td> \n",
       "</tr>\n",
       "<tr>\n",
       "  <th>Date:</th>             <td>Mon, 08 Jun 2020</td> <th>  Prob (F-statistic):</th> <td>3.60e-314</td>\n",
       "</tr>\n",
       "<tr>\n",
       "  <th>Time:</th>                 <td>20:43:06</td>     <th>  Log-Likelihood:    </th> <td> -10827.</td> \n",
       "</tr>\n",
       "<tr>\n",
       "  <th>No. Observations:</th>      <td>  1070</td>      <th>  AIC:               </th> <td>2.168e+04</td>\n",
       "</tr>\n",
       "<tr>\n",
       "  <th>Df Residuals:</th>          <td>  1057</td>      <th>  BIC:               </th> <td>2.174e+04</td>\n",
       "</tr>\n",
       "<tr>\n",
       "  <th>Df Model:</th>              <td>    12</td>      <th>                     </th>     <td> </td>    \n",
       "</tr>\n",
       "<tr>\n",
       "  <th>Covariance Type:</th>      <td>nonrobust</td>    <th>                     </th>     <td> </td>    \n",
       "</tr>\n",
       "</table>\n",
       "<table class=\"simpletable\">\n",
       "<tr>\n",
       "    <td></td>       <th>coef</th>     <th>std err</th>      <th>t</th>      <th>P>|t|</th>  <th>[0.025</th>    <th>0.975]</th>  \n",
       "</tr>\n",
       "<tr>\n",
       "  <th>const</th> <td> 2102.1633</td> <td>  839.003</td> <td>    2.506</td> <td> 0.012</td> <td>  455.863</td> <td> 3748.464</td>\n",
       "</tr>\n",
       "<tr>\n",
       "  <th>x1</th>    <td>  222.1430</td> <td>   28.982</td> <td>    7.665</td> <td> 0.000</td> <td>  165.274</td> <td>  279.012</td>\n",
       "</tr>\n",
       "<tr>\n",
       "  <th>x2</th>    <td>  147.8576</td> <td>   59.408</td> <td>    2.489</td> <td> 0.013</td> <td>   31.286</td> <td>  264.429</td>\n",
       "</tr>\n",
       "<tr>\n",
       "  <th>x3</th>    <td>  570.3470</td> <td>  156.080</td> <td>    3.654</td> <td> 0.000</td> <td>  264.084</td> <td>  876.610</td>\n",
       "</tr>\n",
       "<tr>\n",
       "  <th>x4</th>    <td> 1119.5014</td> <td>  460.208</td> <td>    2.433</td> <td> 0.015</td> <td>  216.477</td> <td> 2022.526</td>\n",
       "</tr>\n",
       "<tr>\n",
       "  <th>x5</th>    <td>  982.6619</td> <td>  457.459</td> <td>    2.148</td> <td> 0.032</td> <td>   85.030</td> <td> 1880.294</td>\n",
       "</tr>\n",
       "<tr>\n",
       "  <th>x6</th>    <td>-1.085e+04</td> <td>  455.317</td> <td>  -23.820</td> <td> 0.000</td> <td>-1.17e+04</td> <td>-9952.340</td>\n",
       "</tr>\n",
       "<tr>\n",
       "  <th>x7</th>    <td> 1.295e+04</td> <td>  499.557</td> <td>   25.919</td> <td> 0.000</td> <td>  1.2e+04</td> <td> 1.39e+04</td>\n",
       "</tr>\n",
       "<tr>\n",
       "  <th>x8</th>    <td>  998.4490</td> <td>  468.600</td> <td>    2.131</td> <td> 0.033</td> <td>   78.958</td> <td> 1917.941</td>\n",
       "</tr>\n",
       "<tr>\n",
       "  <th>x9</th>    <td>  482.4370</td> <td>  459.507</td> <td>    1.050</td> <td> 0.294</td> <td> -419.213</td> <td> 1384.087</td>\n",
       "</tr>\n",
       "<tr>\n",
       "  <th>x10</th>   <td> -726.3419</td> <td>  494.466</td> <td>   -1.469</td> <td> 0.142</td> <td>-1696.588</td> <td>  243.905</td>\n",
       "</tr>\n",
       "<tr>\n",
       "  <th>x11</th>   <td> 2653.0104</td> <td>  833.270</td> <td>    3.184</td> <td> 0.001</td> <td> 1017.959</td> <td> 4288.061</td>\n",
       "</tr>\n",
       "<tr>\n",
       "  <th>x12</th>   <td> -240.8936</td> <td>  528.544</td> <td>   -0.456</td> <td> 0.649</td> <td>-1278.009</td> <td>  796.221</td>\n",
       "</tr>\n",
       "<tr>\n",
       "  <th>x13</th>   <td>  416.3884</td> <td> 1163.933</td> <td>    0.358</td> <td> 0.721</td> <td>-1867.493</td> <td> 2700.270</td>\n",
       "</tr>\n",
       "<tr>\n",
       "  <th>x14</th>   <td> 1294.8323</td> <td>  746.573</td> <td>    1.734</td> <td> 0.083</td> <td> -170.101</td> <td> 2759.765</td>\n",
       "</tr>\n",
       "<tr>\n",
       "  <th>x15</th>   <td>  439.7408</td> <td>  762.187</td> <td>    0.577</td> <td> 0.564</td> <td>-1055.830</td> <td> 1935.312</td>\n",
       "</tr>\n",
       "</table>\n",
       "<table class=\"simpletable\">\n",
       "<tr>\n",
       "  <th>Omnibus:</th>       <td>280.177</td> <th>  Durbin-Watson:     </th> <td>   2.010</td> \n",
       "</tr>\n",
       "<tr>\n",
       "  <th>Prob(Omnibus):</th> <td> 0.000</td>  <th>  Jarque-Bera (JB):  </th> <td> 738.473</td> \n",
       "</tr>\n",
       "<tr>\n",
       "  <th>Skew:</th>          <td> 1.354</td>  <th>  Prob(JB):          </th> <td>4.39e-161</td>\n",
       "</tr>\n",
       "<tr>\n",
       "  <th>Kurtosis:</th>      <td> 6.038</td>  <th>  Cond. No.          </th> <td>1.09e+18</td> \n",
       "</tr>\n",
       "</table><br/><br/>Warnings:<br/>[1] Standard Errors assume that the covariance matrix of the errors is correctly specified.<br/>[2] The smallest eigenvalue is 2.37e-30. This might indicate that there are<br/>strong multicollinearity problems or that the design matrix is singular."
      ],
      "text/plain": [
       "<class 'statsmodels.iolib.summary.Summary'>\n",
       "\"\"\"\n",
       "                            OLS Regression Results                            \n",
       "==============================================================================\n",
       "Dep. Variable:                      y   R-squared:                       0.757\n",
       "Model:                            OLS   Adj. R-squared:                  0.754\n",
       "Method:                 Least Squares   F-statistic:                     273.9\n",
       "Date:                Mon, 08 Jun 2020   Prob (F-statistic):          3.60e-314\n",
       "Time:                        20:43:06   Log-Likelihood:                -10827.\n",
       "No. Observations:                1070   AIC:                         2.168e+04\n",
       "Df Residuals:                    1057   BIC:                         2.174e+04\n",
       "Df Model:                          12                                         \n",
       "Covariance Type:            nonrobust                                         \n",
       "==============================================================================\n",
       "                 coef    std err          t      P>|t|      [0.025      0.975]\n",
       "------------------------------------------------------------------------------\n",
       "const       2102.1633    839.003      2.506      0.012     455.863    3748.464\n",
       "x1           222.1430     28.982      7.665      0.000     165.274     279.012\n",
       "x2           147.8576     59.408      2.489      0.013      31.286     264.429\n",
       "x3           570.3470    156.080      3.654      0.000     264.084     876.610\n",
       "x4          1119.5014    460.208      2.433      0.015     216.477    2022.526\n",
       "x5           982.6619    457.459      2.148      0.032      85.030    1880.294\n",
       "x6         -1.085e+04    455.317    -23.820      0.000   -1.17e+04   -9952.340\n",
       "x7          1.295e+04    499.557     25.919      0.000     1.2e+04    1.39e+04\n",
       "x8           998.4490    468.600      2.131      0.033      78.958    1917.941\n",
       "x9           482.4370    459.507      1.050      0.294    -419.213    1384.087\n",
       "x10         -726.3419    494.466     -1.469      0.142   -1696.588     243.905\n",
       "x11         2653.0104    833.270      3.184      0.001    1017.959    4288.061\n",
       "x12         -240.8936    528.544     -0.456      0.649   -1278.009     796.221\n",
       "x13          416.3884   1163.933      0.358      0.721   -1867.493    2700.270\n",
       "x14         1294.8323    746.573      1.734      0.083    -170.101    2759.765\n",
       "x15          439.7408    762.187      0.577      0.564   -1055.830    1935.312\n",
       "==============================================================================\n",
       "Omnibus:                      280.177   Durbin-Watson:                   2.010\n",
       "Prob(Omnibus):                  0.000   Jarque-Bera (JB):              738.473\n",
       "Skew:                           1.354   Prob(JB):                    4.39e-161\n",
       "Kurtosis:                       6.038   Cond. No.                     1.09e+18\n",
       "==============================================================================\n",
       "\n",
       "Warnings:\n",
       "[1] Standard Errors assume that the covariance matrix of the errors is correctly specified.\n",
       "[2] The smallest eigenvalue is 2.37e-30. This might indicate that there are\n",
       "strong multicollinearity problems or that the design matrix is singular.\n",
       "\"\"\""
      ]
     },
     "execution_count": 74,
     "metadata": {},
     "output_type": "execute_result"
    }
   ],
   "source": [
    "col_delete=10\n",
    "cols_keep=[]\n",
    "for x in range(X_opt.shape[1]):\n",
    "    if x != col_delete :\n",
    "        cols_keep.append(x)\n",
    "X_opt = X_opt[:,cols_keep]\n",
    "X_test_B = X_test_B[:,cols_keep]\n",
    "model_MLR=sm.OLS(endog=y_train,exog=X_opt).fit()\n",
    "model_MLR.summary()"
   ]
  },
  {
   "cell_type": "code",
   "execution_count": 75,
   "metadata": {
    "scrolled": true
   },
   "outputs": [
    {
     "data": {
      "text/html": [
       "<table class=\"simpletable\">\n",
       "<caption>OLS Regression Results</caption>\n",
       "<tr>\n",
       "  <th>Dep. Variable:</th>            <td>y</td>        <th>  R-squared:         </th> <td>   0.757</td> \n",
       "</tr>\n",
       "<tr>\n",
       "  <th>Model:</th>                   <td>OLS</td>       <th>  Adj. R-squared:    </th> <td>   0.754</td> \n",
       "</tr>\n",
       "<tr>\n",
       "  <th>Method:</th>             <td>Least Squares</td>  <th>  F-statistic:       </th> <td>   273.9</td> \n",
       "</tr>\n",
       "<tr>\n",
       "  <th>Date:</th>             <td>Mon, 08 Jun 2020</td> <th>  Prob (F-statistic):</th> <td>3.60e-314</td>\n",
       "</tr>\n",
       "<tr>\n",
       "  <th>Time:</th>                 <td>20:43:39</td>     <th>  Log-Likelihood:    </th> <td> -10827.</td> \n",
       "</tr>\n",
       "<tr>\n",
       "  <th>No. Observations:</th>      <td>  1070</td>      <th>  AIC:               </th> <td>2.168e+04</td>\n",
       "</tr>\n",
       "<tr>\n",
       "  <th>Df Residuals:</th>          <td>  1057</td>      <th>  BIC:               </th> <td>2.174e+04</td>\n",
       "</tr>\n",
       "<tr>\n",
       "  <th>Df Model:</th>              <td>    12</td>      <th>                     </th>     <td> </td>    \n",
       "</tr>\n",
       "<tr>\n",
       "  <th>Covariance Type:</th>      <td>nonrobust</td>    <th>                     </th>     <td> </td>    \n",
       "</tr>\n",
       "</table>\n",
       "<table class=\"simpletable\">\n",
       "<tr>\n",
       "    <td></td>       <th>coef</th>     <th>std err</th>      <th>t</th>      <th>P>|t|</th>  <th>[0.025</th>    <th>0.975]</th>  \n",
       "</tr>\n",
       "<tr>\n",
       "  <th>const</th> <td> 2310.3575</td> <td> 1023.675</td> <td>    2.257</td> <td> 0.024</td> <td>  301.691</td> <td> 4319.024</td>\n",
       "</tr>\n",
       "<tr>\n",
       "  <th>x1</th>    <td>  222.1430</td> <td>   28.982</td> <td>    7.665</td> <td> 0.000</td> <td>  165.274</td> <td>  279.012</td>\n",
       "</tr>\n",
       "<tr>\n",
       "  <th>x2</th>    <td>  147.8576</td> <td>   59.408</td> <td>    2.489</td> <td> 0.013</td> <td>   31.286</td> <td>  264.429</td>\n",
       "</tr>\n",
       "<tr>\n",
       "  <th>x3</th>    <td>  570.3470</td> <td>  156.080</td> <td>    3.654</td> <td> 0.000</td> <td>  264.084</td> <td>  876.610</td>\n",
       "</tr>\n",
       "<tr>\n",
       "  <th>x4</th>    <td> 1223.5985</td> <td>  541.849</td> <td>    2.258</td> <td> 0.024</td> <td>  160.377</td> <td> 2286.820</td>\n",
       "</tr>\n",
       "<tr>\n",
       "  <th>x5</th>    <td> 1086.7590</td> <td>  547.223</td> <td>    1.986</td> <td> 0.047</td> <td>   12.993</td> <td> 2160.525</td>\n",
       "</tr>\n",
       "<tr>\n",
       "  <th>x6</th>    <td>-1.074e+04</td> <td>  539.658</td> <td>  -19.905</td> <td> 0.000</td> <td>-1.18e+04</td> <td>-9682.748</td>\n",
       "</tr>\n",
       "<tr>\n",
       "  <th>x7</th>    <td> 1.305e+04</td> <td>  581.062</td> <td>   22.462</td> <td> 0.000</td> <td> 1.19e+04</td> <td> 1.42e+04</td>\n",
       "</tr>\n",
       "<tr>\n",
       "  <th>x8</th>    <td>  998.4490</td> <td>  468.600</td> <td>    2.131</td> <td> 0.033</td> <td>   78.958</td> <td> 1917.941</td>\n",
       "</tr>\n",
       "<tr>\n",
       "  <th>x9</th>    <td>  482.4370</td> <td>  459.507</td> <td>    1.050</td> <td> 0.294</td> <td> -419.213</td> <td> 1384.087</td>\n",
       "</tr>\n",
       "<tr>\n",
       "  <th>x10</th>   <td>-1142.7303</td> <td> 1524.553</td> <td>   -0.750</td> <td> 0.454</td> <td>-4134.225</td> <td> 1848.764</td>\n",
       "</tr>\n",
       "<tr>\n",
       "  <th>x11</th>   <td> 2236.6219</td> <td> 1776.791</td> <td>    1.259</td> <td> 0.208</td> <td>-1249.816</td> <td> 5723.060</td>\n",
       "</tr>\n",
       "<tr>\n",
       "  <th>x12</th>   <td> -657.2820</td> <td> 1581.153</td> <td>   -0.416</td> <td> 0.678</td> <td>-3759.837</td> <td> 2445.273</td>\n",
       "</tr>\n",
       "<tr>\n",
       "  <th>x13</th>   <td> 1294.8323</td> <td>  746.573</td> <td>    1.734</td> <td> 0.083</td> <td> -170.101</td> <td> 2759.765</td>\n",
       "</tr>\n",
       "<tr>\n",
       "  <th>x14</th>   <td>  439.7408</td> <td>  762.187</td> <td>    0.577</td> <td> 0.564</td> <td>-1055.830</td> <td> 1935.312</td>\n",
       "</tr>\n",
       "</table>\n",
       "<table class=\"simpletable\">\n",
       "<tr>\n",
       "  <th>Omnibus:</th>       <td>280.177</td> <th>  Durbin-Watson:     </th> <td>   2.010</td> \n",
       "</tr>\n",
       "<tr>\n",
       "  <th>Prob(Omnibus):</th> <td> 0.000</td>  <th>  Jarque-Bera (JB):  </th> <td> 738.473</td> \n",
       "</tr>\n",
       "<tr>\n",
       "  <th>Skew:</th>          <td> 1.354</td>  <th>  Prob(JB):          </th> <td>4.39e-161</td>\n",
       "</tr>\n",
       "<tr>\n",
       "  <th>Kurtosis:</th>      <td> 6.038</td>  <th>  Cond. No.          </th> <td>1.30e+18</td> \n",
       "</tr>\n",
       "</table><br/><br/>Warnings:<br/>[1] Standard Errors assume that the covariance matrix of the errors is correctly specified.<br/>[2] The smallest eigenvalue is 1.67e-30. This might indicate that there are<br/>strong multicollinearity problems or that the design matrix is singular."
      ],
      "text/plain": [
       "<class 'statsmodels.iolib.summary.Summary'>\n",
       "\"\"\"\n",
       "                            OLS Regression Results                            \n",
       "==============================================================================\n",
       "Dep. Variable:                      y   R-squared:                       0.757\n",
       "Model:                            OLS   Adj. R-squared:                  0.754\n",
       "Method:                 Least Squares   F-statistic:                     273.9\n",
       "Date:                Mon, 08 Jun 2020   Prob (F-statistic):          3.60e-314\n",
       "Time:                        20:43:39   Log-Likelihood:                -10827.\n",
       "No. Observations:                1070   AIC:                         2.168e+04\n",
       "Df Residuals:                    1057   BIC:                         2.174e+04\n",
       "Df Model:                          12                                         \n",
       "Covariance Type:            nonrobust                                         \n",
       "==============================================================================\n",
       "                 coef    std err          t      P>|t|      [0.025      0.975]\n",
       "------------------------------------------------------------------------------\n",
       "const       2310.3575   1023.675      2.257      0.024     301.691    4319.024\n",
       "x1           222.1430     28.982      7.665      0.000     165.274     279.012\n",
       "x2           147.8576     59.408      2.489      0.013      31.286     264.429\n",
       "x3           570.3470    156.080      3.654      0.000     264.084     876.610\n",
       "x4          1223.5985    541.849      2.258      0.024     160.377    2286.820\n",
       "x5          1086.7590    547.223      1.986      0.047      12.993    2160.525\n",
       "x6         -1.074e+04    539.658    -19.905      0.000   -1.18e+04   -9682.748\n",
       "x7          1.305e+04    581.062     22.462      0.000    1.19e+04    1.42e+04\n",
       "x8           998.4490    468.600      2.131      0.033      78.958    1917.941\n",
       "x9           482.4370    459.507      1.050      0.294    -419.213    1384.087\n",
       "x10        -1142.7303   1524.553     -0.750      0.454   -4134.225    1848.764\n",
       "x11         2236.6219   1776.791      1.259      0.208   -1249.816    5723.060\n",
       "x12         -657.2820   1581.153     -0.416      0.678   -3759.837    2445.273\n",
       "x13         1294.8323    746.573      1.734      0.083    -170.101    2759.765\n",
       "x14          439.7408    762.187      0.577      0.564   -1055.830    1935.312\n",
       "==============================================================================\n",
       "Omnibus:                      280.177   Durbin-Watson:                   2.010\n",
       "Prob(Omnibus):                  0.000   Jarque-Bera (JB):              738.473\n",
       "Skew:                           1.354   Prob(JB):                    4.39e-161\n",
       "Kurtosis:                       6.038   Cond. No.                     1.30e+18\n",
       "==============================================================================\n",
       "\n",
       "Warnings:\n",
       "[1] Standard Errors assume that the covariance matrix of the errors is correctly specified.\n",
       "[2] The smallest eigenvalue is 1.67e-30. This might indicate that there are\n",
       "strong multicollinearity problems or that the design matrix is singular.\n",
       "\"\"\""
      ]
     },
     "execution_count": 75,
     "metadata": {},
     "output_type": "execute_result"
    }
   ],
   "source": [
    "col_delete=13\n",
    "cols_keep=[]\n",
    "for x in range(X_opt.shape[1]):\n",
    "    if x != col_delete :\n",
    "        cols_keep.append(x)\n",
    "X_opt = X_opt[:,cols_keep]\n",
    "X_test_B = X_test_B[:,cols_keep]\n",
    "model_MLR=sm.OLS(endog=y_train,exog=X_opt).fit()\n",
    "model_MLR.summary()"
   ]
  },
  {
   "cell_type": "code",
   "execution_count": 76,
   "metadata": {
    "scrolled": true
   },
   "outputs": [
    {
     "data": {
      "text/html": [
       "<table class=\"simpletable\">\n",
       "<caption>OLS Regression Results</caption>\n",
       "<tr>\n",
       "  <th>Dep. Variable:</th>            <td>y</td>        <th>  R-squared:         </th> <td>   0.757</td> \n",
       "</tr>\n",
       "<tr>\n",
       "  <th>Model:</th>                   <td>OLS</td>       <th>  Adj. R-squared:    </th> <td>   0.754</td> \n",
       "</tr>\n",
       "<tr>\n",
       "  <th>Method:</th>             <td>Least Squares</td>  <th>  F-statistic:       </th> <td>   299.0</td> \n",
       "</tr>\n",
       "<tr>\n",
       "  <th>Date:</th>             <td>Mon, 08 Jun 2020</td> <th>  Prob (F-statistic):</th> <td>2.22e-315</td>\n",
       "</tr>\n",
       "<tr>\n",
       "  <th>Time:</th>                 <td>20:43:54</td>     <th>  Log-Likelihood:    </th> <td> -10827.</td> \n",
       "</tr>\n",
       "<tr>\n",
       "  <th>No. Observations:</th>      <td>  1070</td>      <th>  AIC:               </th> <td>2.168e+04</td>\n",
       "</tr>\n",
       "<tr>\n",
       "  <th>Df Residuals:</th>          <td>  1058</td>      <th>  BIC:               </th> <td>2.174e+04</td>\n",
       "</tr>\n",
       "<tr>\n",
       "  <th>Df Model:</th>              <td>    11</td>      <th>                     </th>     <td> </td>    \n",
       "</tr>\n",
       "<tr>\n",
       "  <th>Covariance Type:</th>      <td>nonrobust</td>    <th>                     </th>     <td> </td>    \n",
       "</tr>\n",
       "</table>\n",
       "<table class=\"simpletable\">\n",
       "<tr>\n",
       "    <td></td>       <th>coef</th>     <th>std err</th>      <th>t</th>      <th>P>|t|</th>  <th>[0.025</th>    <th>0.975]</th>  \n",
       "</tr>\n",
       "<tr>\n",
       "  <th>const</th> <td> 2126.0767</td> <td>  922.348</td> <td>    2.305</td> <td> 0.021</td> <td>  316.237</td> <td> 3935.917</td>\n",
       "</tr>\n",
       "<tr>\n",
       "  <th>x1</th>    <td>  221.8799</td> <td>   28.964</td> <td>    7.661</td> <td> 0.000</td> <td>  165.047</td> <td>  278.713</td>\n",
       "</tr>\n",
       "<tr>\n",
       "  <th>x2</th>    <td>  138.9033</td> <td>   55.344</td> <td>    2.510</td> <td> 0.012</td> <td>   30.307</td> <td>  247.500</td>\n",
       "</tr>\n",
       "<tr>\n",
       "  <th>x3</th>    <td>  570.0102</td> <td>  156.017</td> <td>    3.654</td> <td> 0.000</td> <td>  263.872</td> <td>  876.149</td>\n",
       "</tr>\n",
       "<tr>\n",
       "  <th>x4</th>    <td> 1134.2268</td> <td>  497.177</td> <td>    2.281</td> <td> 0.023</td> <td>  158.662</td> <td> 2109.792</td>\n",
       "</tr>\n",
       "<tr>\n",
       "  <th>x5</th>    <td>  991.8499</td> <td>  497.124</td> <td>    1.995</td> <td> 0.046</td> <td>   16.388</td> <td> 1967.312</td>\n",
       "</tr>\n",
       "<tr>\n",
       "  <th>x6</th>    <td>-1.083e+04</td> <td>  491.212</td> <td>  -22.056</td> <td> 0.000</td> <td>-1.18e+04</td> <td>-9870.534</td>\n",
       "</tr>\n",
       "<tr>\n",
       "  <th>x7</th>    <td> 1.296e+04</td> <td>  537.491</td> <td>   24.113</td> <td> 0.000</td> <td> 1.19e+04</td> <td>  1.4e+04</td>\n",
       "</tr>\n",
       "<tr>\n",
       "  <th>x8</th>    <td> 1002.6686</td> <td>  468.307</td> <td>    2.141</td> <td> 0.032</td> <td>   83.753</td> <td> 1921.584</td>\n",
       "</tr>\n",
       "<tr>\n",
       "  <th>x9</th>    <td>  473.3675</td> <td>  458.809</td> <td>    1.032</td> <td> 0.302</td> <td> -426.912</td> <td> 1373.647</td>\n",
       "</tr>\n",
       "<tr>\n",
       "  <th>x10</th>   <td> -562.7678</td> <td>  614.422</td> <td>   -0.916</td> <td> 0.360</td> <td>-1768.391</td> <td>  642.856</td>\n",
       "</tr>\n",
       "<tr>\n",
       "  <th>x11</th>   <td> 2930.1156</td> <td>  611.221</td> <td>    4.794</td> <td> 0.000</td> <td> 1730.772</td> <td> 4129.459</td>\n",
       "</tr>\n",
       "<tr>\n",
       "  <th>x12</th>   <td> 1298.8945</td> <td>  746.217</td> <td>    1.741</td> <td> 0.082</td> <td> -165.339</td> <td> 2763.128</td>\n",
       "</tr>\n",
       "<tr>\n",
       "  <th>x13</th>   <td>  446.1596</td> <td>  761.732</td> <td>    0.586</td> <td> 0.558</td> <td>-1048.518</td> <td> 1940.837</td>\n",
       "</tr>\n",
       "</table>\n",
       "<table class=\"simpletable\">\n",
       "<tr>\n",
       "  <th>Omnibus:</th>       <td>279.919</td> <th>  Durbin-Watson:     </th> <td>   2.010</td> \n",
       "</tr>\n",
       "<tr>\n",
       "  <th>Prob(Omnibus):</th> <td> 0.000</td>  <th>  Jarque-Bera (JB):  </th> <td> 735.804</td> \n",
       "</tr>\n",
       "<tr>\n",
       "  <th>Skew:</th>          <td> 1.354</td>  <th>  Prob(JB):          </th> <td>1.67e-160</td>\n",
       "</tr>\n",
       "<tr>\n",
       "  <th>Kurtosis:</th>      <td> 6.029</td>  <th>  Cond. No.          </th> <td>8.17e+17</td> \n",
       "</tr>\n",
       "</table><br/><br/>Warnings:<br/>[1] Standard Errors assume that the covariance matrix of the errors is correctly specified.<br/>[2] The smallest eigenvalue is 4.21e-30. This might indicate that there are<br/>strong multicollinearity problems or that the design matrix is singular."
      ],
      "text/plain": [
       "<class 'statsmodels.iolib.summary.Summary'>\n",
       "\"\"\"\n",
       "                            OLS Regression Results                            \n",
       "==============================================================================\n",
       "Dep. Variable:                      y   R-squared:                       0.757\n",
       "Model:                            OLS   Adj. R-squared:                  0.754\n",
       "Method:                 Least Squares   F-statistic:                     299.0\n",
       "Date:                Mon, 08 Jun 2020   Prob (F-statistic):          2.22e-315\n",
       "Time:                        20:43:54   Log-Likelihood:                -10827.\n",
       "No. Observations:                1070   AIC:                         2.168e+04\n",
       "Df Residuals:                    1058   BIC:                         2.174e+04\n",
       "Df Model:                          11                                         \n",
       "Covariance Type:            nonrobust                                         \n",
       "==============================================================================\n",
       "                 coef    std err          t      P>|t|      [0.025      0.975]\n",
       "------------------------------------------------------------------------------\n",
       "const       2126.0767    922.348      2.305      0.021     316.237    3935.917\n",
       "x1           221.8799     28.964      7.661      0.000     165.047     278.713\n",
       "x2           138.9033     55.344      2.510      0.012      30.307     247.500\n",
       "x3           570.0102    156.017      3.654      0.000     263.872     876.149\n",
       "x4          1134.2268    497.177      2.281      0.023     158.662    2109.792\n",
       "x5           991.8499    497.124      1.995      0.046      16.388    1967.312\n",
       "x6         -1.083e+04    491.212    -22.056      0.000   -1.18e+04   -9870.534\n",
       "x7          1.296e+04    537.491     24.113      0.000    1.19e+04     1.4e+04\n",
       "x8          1002.6686    468.307      2.141      0.032      83.753    1921.584\n",
       "x9           473.3675    458.809      1.032      0.302    -426.912    1373.647\n",
       "x10         -562.7678    614.422     -0.916      0.360   -1768.391     642.856\n",
       "x11         2930.1156    611.221      4.794      0.000    1730.772    4129.459\n",
       "x12         1298.8945    746.217      1.741      0.082    -165.339    2763.128\n",
       "x13          446.1596    761.732      0.586      0.558   -1048.518    1940.837\n",
       "==============================================================================\n",
       "Omnibus:                      279.919   Durbin-Watson:                   2.010\n",
       "Prob(Omnibus):                  0.000   Jarque-Bera (JB):              735.804\n",
       "Skew:                           1.354   Prob(JB):                    1.67e-160\n",
       "Kurtosis:                       6.029   Cond. No.                     8.17e+17\n",
       "==============================================================================\n",
       "\n",
       "Warnings:\n",
       "[1] Standard Errors assume that the covariance matrix of the errors is correctly specified.\n",
       "[2] The smallest eigenvalue is 4.21e-30. This might indicate that there are\n",
       "strong multicollinearity problems or that the design matrix is singular.\n",
       "\"\"\""
      ]
     },
     "execution_count": 76,
     "metadata": {},
     "output_type": "execute_result"
    }
   ],
   "source": [
    "col_delete=12\n",
    "cols_keep=[]\n",
    "for x in range(X_opt.shape[1]):\n",
    "    if x != col_delete :\n",
    "        cols_keep.append(x)\n",
    "X_opt = X_opt[:,cols_keep]\n",
    "X_test_B = X_test_B[:,cols_keep]\n",
    "model_MLR=sm.OLS(endog=y_train,exog=X_opt).fit()\n",
    "model_MLR.summary()"
   ]
  },
  {
   "cell_type": "code",
   "execution_count": 77,
   "metadata": {
    "scrolled": true
   },
   "outputs": [
    {
     "data": {
      "text/html": [
       "<table class=\"simpletable\">\n",
       "<caption>OLS Regression Results</caption>\n",
       "<tr>\n",
       "  <th>Dep. Variable:</th>            <td>y</td>        <th>  R-squared:         </th> <td>   0.757</td> \n",
       "</tr>\n",
       "<tr>\n",
       "  <th>Model:</th>                   <td>OLS</td>       <th>  Adj. R-squared:    </th> <td>   0.754</td> \n",
       "</tr>\n",
       "<tr>\n",
       "  <th>Method:</th>             <td>Least Squares</td>  <th>  F-statistic:       </th> <td>   329.1</td> \n",
       "</tr>\n",
       "<tr>\n",
       "  <th>Date:</th>             <td>Mon, 08 Jun 2020</td> <th>  Prob (F-statistic):</th> <td>1.42e-316</td>\n",
       "</tr>\n",
       "<tr>\n",
       "  <th>Time:</th>                 <td>20:44:21</td>     <th>  Log-Likelihood:    </th> <td> -10827.</td> \n",
       "</tr>\n",
       "<tr>\n",
       "  <th>No. Observations:</th>      <td>  1070</td>      <th>  AIC:               </th> <td>2.168e+04</td>\n",
       "</tr>\n",
       "<tr>\n",
       "  <th>Df Residuals:</th>          <td>  1059</td>      <th>  BIC:               </th> <td>2.173e+04</td>\n",
       "</tr>\n",
       "<tr>\n",
       "  <th>Df Model:</th>              <td>    10</td>      <th>                     </th>     <td> </td>    \n",
       "</tr>\n",
       "<tr>\n",
       "  <th>Covariance Type:</th>      <td>nonrobust</td>    <th>                     </th>     <td> </td>    \n",
       "</tr>\n",
       "</table>\n",
       "<table class=\"simpletable\">\n",
       "<tr>\n",
       "    <td></td>       <th>coef</th>     <th>std err</th>      <th>t</th>      <th>P>|t|</th>  <th>[0.025</th>    <th>0.975]</th>  \n",
       "</tr>\n",
       "<tr>\n",
       "  <th>const</th> <td> 2305.6948</td> <td>  869.606</td> <td>    2.651</td> <td> 0.008</td> <td>  599.348</td> <td> 4012.041</td>\n",
       "</tr>\n",
       "<tr>\n",
       "  <th>x1</th>    <td>  213.2039</td> <td>   24.882</td> <td>    8.569</td> <td> 0.000</td> <td>  164.380</td> <td>  262.027</td>\n",
       "</tr>\n",
       "<tr>\n",
       "  <th>x2</th>    <td>  138.1700</td> <td>   55.313</td> <td>    2.498</td> <td> 0.013</td> <td>   29.635</td> <td>  246.705</td>\n",
       "</tr>\n",
       "<tr>\n",
       "  <th>x3</th>    <td>  556.7523</td> <td>  154.319</td> <td>    3.608</td> <td> 0.000</td> <td>  253.947</td> <td>  859.557</td>\n",
       "</tr>\n",
       "<tr>\n",
       "  <th>x4</th>    <td> 1224.9777</td> <td>  472.271</td> <td>    2.594</td> <td> 0.010</td> <td>  298.284</td> <td> 2151.672</td>\n",
       "</tr>\n",
       "<tr>\n",
       "  <th>x5</th>    <td> 1080.7171</td> <td>  473.258</td> <td>    2.284</td> <td> 0.023</td> <td>  152.086</td> <td> 2009.348</td>\n",
       "</tr>\n",
       "<tr>\n",
       "  <th>x6</th>    <td>-1.075e+04</td> <td>  468.039</td> <td>  -22.962</td> <td> 0.000</td> <td>-1.17e+04</td> <td>-9828.947</td>\n",
       "</tr>\n",
       "<tr>\n",
       "  <th>x7</th>    <td> 1.305e+04</td> <td>  513.576</td> <td>   25.416</td> <td> 0.000</td> <td>  1.2e+04</td> <td> 1.41e+04</td>\n",
       "</tr>\n",
       "<tr>\n",
       "  <th>x8</th>    <td> 1005.6544</td> <td>  468.134</td> <td>    2.148</td> <td> 0.032</td> <td>   87.080</td> <td> 1924.229</td>\n",
       "</tr>\n",
       "<tr>\n",
       "  <th>x9</th>    <td>  480.3968</td> <td>  458.510</td> <td>    1.048</td> <td> 0.295</td> <td> -419.295</td> <td> 1380.088</td>\n",
       "</tr>\n",
       "<tr>\n",
       "  <th>x10</th>   <td> -563.1433</td> <td>  614.231</td> <td>   -0.917</td> <td> 0.359</td> <td>-1768.391</td> <td>  642.104</td>\n",
       "</tr>\n",
       "<tr>\n",
       "  <th>x11</th>   <td> 2945.4095</td> <td>  610.474</td> <td>    4.825</td> <td> 0.000</td> <td> 1747.534</td> <td> 4143.285</td>\n",
       "</tr>\n",
       "<tr>\n",
       "  <th>x12</th>   <td> 1434.6253</td> <td>  709.103</td> <td>    2.023</td> <td> 0.043</td> <td>   43.219</td> <td> 2826.031</td>\n",
       "</tr>\n",
       "</table>\n",
       "<table class=\"simpletable\">\n",
       "<tr>\n",
       "  <th>Omnibus:</th>       <td>278.767</td> <th>  Durbin-Watson:     </th> <td>   2.007</td> \n",
       "</tr>\n",
       "<tr>\n",
       "  <th>Prob(Omnibus):</th> <td> 0.000</td>  <th>  Jarque-Bera (JB):  </th> <td> 728.744</td> \n",
       "</tr>\n",
       "<tr>\n",
       "  <th>Skew:</th>          <td> 1.351</td>  <th>  Prob(JB):          </th> <td>5.69e-159</td>\n",
       "</tr>\n",
       "<tr>\n",
       "  <th>Kurtosis:</th>      <td> 6.008</td>  <th>  Cond. No.          </th> <td>1.06e+18</td> \n",
       "</tr>\n",
       "</table><br/><br/>Warnings:<br/>[1] Standard Errors assume that the covariance matrix of the errors is correctly specified.<br/>[2] The smallest eigenvalue is 2.52e-30. This might indicate that there are<br/>strong multicollinearity problems or that the design matrix is singular."
      ],
      "text/plain": [
       "<class 'statsmodels.iolib.summary.Summary'>\n",
       "\"\"\"\n",
       "                            OLS Regression Results                            \n",
       "==============================================================================\n",
       "Dep. Variable:                      y   R-squared:                       0.757\n",
       "Model:                            OLS   Adj. R-squared:                  0.754\n",
       "Method:                 Least Squares   F-statistic:                     329.1\n",
       "Date:                Mon, 08 Jun 2020   Prob (F-statistic):          1.42e-316\n",
       "Time:                        20:44:21   Log-Likelihood:                -10827.\n",
       "No. Observations:                1070   AIC:                         2.168e+04\n",
       "Df Residuals:                    1059   BIC:                         2.173e+04\n",
       "Df Model:                          10                                         \n",
       "Covariance Type:            nonrobust                                         \n",
       "==============================================================================\n",
       "                 coef    std err          t      P>|t|      [0.025      0.975]\n",
       "------------------------------------------------------------------------------\n",
       "const       2305.6948    869.606      2.651      0.008     599.348    4012.041\n",
       "x1           213.2039     24.882      8.569      0.000     164.380     262.027\n",
       "x2           138.1700     55.313      2.498      0.013      29.635     246.705\n",
       "x3           556.7523    154.319      3.608      0.000     253.947     859.557\n",
       "x4          1224.9777    472.271      2.594      0.010     298.284    2151.672\n",
       "x5          1080.7171    473.258      2.284      0.023     152.086    2009.348\n",
       "x6         -1.075e+04    468.039    -22.962      0.000   -1.17e+04   -9828.947\n",
       "x7          1.305e+04    513.576     25.416      0.000     1.2e+04    1.41e+04\n",
       "x8          1005.6544    468.134      2.148      0.032      87.080    1924.229\n",
       "x9           480.3968    458.510      1.048      0.295    -419.295    1380.088\n",
       "x10         -563.1433    614.231     -0.917      0.359   -1768.391     642.104\n",
       "x11         2945.4095    610.474      4.825      0.000    1747.534    4143.285\n",
       "x12         1434.6253    709.103      2.023      0.043      43.219    2826.031\n",
       "==============================================================================\n",
       "Omnibus:                      278.767   Durbin-Watson:                   2.007\n",
       "Prob(Omnibus):                  0.000   Jarque-Bera (JB):              728.744\n",
       "Skew:                           1.351   Prob(JB):                    5.69e-159\n",
       "Kurtosis:                       6.008   Cond. No.                     1.06e+18\n",
       "==============================================================================\n",
       "\n",
       "Warnings:\n",
       "[1] Standard Errors assume that the covariance matrix of the errors is correctly specified.\n",
       "[2] The smallest eigenvalue is 2.52e-30. This might indicate that there are\n",
       "strong multicollinearity problems or that the design matrix is singular.\n",
       "\"\"\""
      ]
     },
     "execution_count": 77,
     "metadata": {},
     "output_type": "execute_result"
    }
   ],
   "source": [
    "col_delete=13\n",
    "cols_keep=[]\n",
    "for x in range(X_opt.shape[1]):\n",
    "    if x != col_delete :\n",
    "        cols_keep.append(x)\n",
    "X_opt = X_opt[:,cols_keep]\n",
    "X_test_B = X_test_B[:,cols_keep]\n",
    "model_MLR=sm.OLS(endog=y_train,exog=X_opt).fit()\n",
    "model_MLR.summary()"
   ]
  },
  {
   "cell_type": "code",
   "execution_count": 78,
   "metadata": {
    "scrolled": true
   },
   "outputs": [
    {
     "data": {
      "text/html": [
       "<table class=\"simpletable\">\n",
       "<caption>OLS Regression Results</caption>\n",
       "<tr>\n",
       "  <th>Dep. Variable:</th>            <td>y</td>        <th>  R-squared:         </th> <td>   0.756</td> \n",
       "</tr>\n",
       "<tr>\n",
       "  <th>Model:</th>                   <td>OLS</td>       <th>  Adj. R-squared:    </th> <td>   0.754</td> \n",
       "</tr>\n",
       "<tr>\n",
       "  <th>Method:</th>             <td>Least Squares</td>  <th>  F-statistic:       </th> <td>   365.6</td> \n",
       "</tr>\n",
       "<tr>\n",
       "  <th>Date:</th>             <td>Mon, 08 Jun 2020</td> <th>  Prob (F-statistic):</th> <td>1.09e-317</td>\n",
       "</tr>\n",
       "<tr>\n",
       "  <th>Time:</th>                 <td>20:44:40</td>     <th>  Log-Likelihood:    </th> <td> -10828.</td> \n",
       "</tr>\n",
       "<tr>\n",
       "  <th>No. Observations:</th>      <td>  1070</td>      <th>  AIC:               </th> <td>2.168e+04</td>\n",
       "</tr>\n",
       "<tr>\n",
       "  <th>Df Residuals:</th>          <td>  1060</td>      <th>  BIC:               </th> <td>2.173e+04</td>\n",
       "</tr>\n",
       "<tr>\n",
       "  <th>Df Model:</th>              <td>     9</td>      <th>                     </th>     <td> </td>    \n",
       "</tr>\n",
       "<tr>\n",
       "  <th>Covariance Type:</th>      <td>nonrobust</td>    <th>                     </th>     <td> </td>    \n",
       "</tr>\n",
       "</table>\n",
       "<table class=\"simpletable\">\n",
       "<tr>\n",
       "    <td></td>       <th>coef</th>     <th>std err</th>      <th>t</th>      <th>P>|t|</th>  <th>[0.025</th>    <th>0.975]</th>  \n",
       "</tr>\n",
       "<tr>\n",
       "  <th>const</th> <td> 1941.3354</td> <td>  773.425</td> <td>    2.510</td> <td> 0.012</td> <td>  423.717</td> <td> 3458.954</td>\n",
       "</tr>\n",
       "<tr>\n",
       "  <th>x1</th>    <td>  213.8191</td> <td>   24.871</td> <td>    8.597</td> <td> 0.000</td> <td>  165.017</td> <td>  262.621</td>\n",
       "</tr>\n",
       "<tr>\n",
       "  <th>x2</th>    <td>  158.0112</td> <td>   50.899</td> <td>    3.104</td> <td> 0.002</td> <td>   58.136</td> <td>  257.886</td>\n",
       "</tr>\n",
       "<tr>\n",
       "  <th>x3</th>    <td>  551.6896</td> <td>  154.208</td> <td>    3.578</td> <td> 0.000</td> <td>  249.102</td> <td>  854.278</td>\n",
       "</tr>\n",
       "<tr>\n",
       "  <th>x4</th>    <td> 1044.8506</td> <td>  429.433</td> <td>    2.433</td> <td> 0.015</td> <td>  202.215</td> <td> 1887.486</td>\n",
       "</tr>\n",
       "<tr>\n",
       "  <th>x5</th>    <td>  896.4849</td> <td>  428.447</td> <td>    2.092</td> <td> 0.037</td> <td>   55.784</td> <td> 1737.185</td>\n",
       "</tr>\n",
       "<tr>\n",
       "  <th>x6</th>    <td>-1.092e+04</td> <td>  428.314</td> <td>  -25.496</td> <td> 0.000</td> <td>-1.18e+04</td> <td>-1.01e+04</td>\n",
       "</tr>\n",
       "<tr>\n",
       "  <th>x7</th>    <td> 1.286e+04</td> <td>  469.186</td> <td>   27.413</td> <td> 0.000</td> <td> 1.19e+04</td> <td> 1.38e+04</td>\n",
       "</tr>\n",
       "<tr>\n",
       "  <th>x8</th>    <td> 1003.2172</td> <td>  468.091</td> <td>    2.143</td> <td> 0.032</td> <td>   84.727</td> <td> 1921.707</td>\n",
       "</tr>\n",
       "<tr>\n",
       "  <th>x9</th>    <td>  504.0300</td> <td>  457.751</td> <td>    1.101</td> <td> 0.271</td> <td> -394.170</td> <td> 1402.230</td>\n",
       "</tr>\n",
       "<tr>\n",
       "  <th>x10</th>   <td> 2955.6012</td> <td>  610.327</td> <td>    4.843</td> <td> 0.000</td> <td> 1758.015</td> <td> 4153.187</td>\n",
       "</tr>\n",
       "<tr>\n",
       "  <th>x11</th>   <td> 1416.2421</td> <td>  708.766</td> <td>    1.998</td> <td> 0.046</td> <td>   25.499</td> <td> 2806.986</td>\n",
       "</tr>\n",
       "</table>\n",
       "<table class=\"simpletable\">\n",
       "<tr>\n",
       "  <th>Omnibus:</th>       <td>275.933</td> <th>  Durbin-Watson:     </th> <td>   2.011</td> \n",
       "</tr>\n",
       "<tr>\n",
       "  <th>Prob(Omnibus):</th> <td> 0.000</td>  <th>  Jarque-Bera (JB):  </th> <td> 718.019</td> \n",
       "</tr>\n",
       "<tr>\n",
       "  <th>Skew:</th>          <td> 1.339</td>  <th>  Prob(JB):          </th> <td>1.21e-156</td>\n",
       "</tr>\n",
       "<tr>\n",
       "  <th>Kurtosis:</th>      <td> 5.989</td>  <th>  Cond. No.          </th> <td>7.82e+17</td> \n",
       "</tr>\n",
       "</table><br/><br/>Warnings:<br/>[1] Standard Errors assume that the covariance matrix of the errors is correctly specified.<br/>[2] The smallest eigenvalue is 4.59e-30. This might indicate that there are<br/>strong multicollinearity problems or that the design matrix is singular."
      ],
      "text/plain": [
       "<class 'statsmodels.iolib.summary.Summary'>\n",
       "\"\"\"\n",
       "                            OLS Regression Results                            \n",
       "==============================================================================\n",
       "Dep. Variable:                      y   R-squared:                       0.756\n",
       "Model:                            OLS   Adj. R-squared:                  0.754\n",
       "Method:                 Least Squares   F-statistic:                     365.6\n",
       "Date:                Mon, 08 Jun 2020   Prob (F-statistic):          1.09e-317\n",
       "Time:                        20:44:40   Log-Likelihood:                -10828.\n",
       "No. Observations:                1070   AIC:                         2.168e+04\n",
       "Df Residuals:                    1060   BIC:                         2.173e+04\n",
       "Df Model:                           9                                         \n",
       "Covariance Type:            nonrobust                                         \n",
       "==============================================================================\n",
       "                 coef    std err          t      P>|t|      [0.025      0.975]\n",
       "------------------------------------------------------------------------------\n",
       "const       1941.3354    773.425      2.510      0.012     423.717    3458.954\n",
       "x1           213.8191     24.871      8.597      0.000     165.017     262.621\n",
       "x2           158.0112     50.899      3.104      0.002      58.136     257.886\n",
       "x3           551.6896    154.208      3.578      0.000     249.102     854.278\n",
       "x4          1044.8506    429.433      2.433      0.015     202.215    1887.486\n",
       "x5           896.4849    428.447      2.092      0.037      55.784    1737.185\n",
       "x6         -1.092e+04    428.314    -25.496      0.000   -1.18e+04   -1.01e+04\n",
       "x7          1.286e+04    469.186     27.413      0.000    1.19e+04    1.38e+04\n",
       "x8          1003.2172    468.091      2.143      0.032      84.727    1921.707\n",
       "x9           504.0300    457.751      1.101      0.271    -394.170    1402.230\n",
       "x10         2955.6012    610.327      4.843      0.000    1758.015    4153.187\n",
       "x11         1416.2421    708.766      1.998      0.046      25.499    2806.986\n",
       "==============================================================================\n",
       "Omnibus:                      275.933   Durbin-Watson:                   2.011\n",
       "Prob(Omnibus):                  0.000   Jarque-Bera (JB):              718.019\n",
       "Skew:                           1.339   Prob(JB):                    1.21e-156\n",
       "Kurtosis:                       5.989   Cond. No.                     7.82e+17\n",
       "==============================================================================\n",
       "\n",
       "Warnings:\n",
       "[1] Standard Errors assume that the covariance matrix of the errors is correctly specified.\n",
       "[2] The smallest eigenvalue is 4.59e-30. This might indicate that there are\n",
       "strong multicollinearity problems or that the design matrix is singular.\n",
       "\"\"\""
      ]
     },
     "execution_count": 78,
     "metadata": {},
     "output_type": "execute_result"
    }
   ],
   "source": [
    "col_delete=10\n",
    "cols_keep=[]\n",
    "for x in range(X_opt.shape[1]):\n",
    "    if x != col_delete :\n",
    "        cols_keep.append(x)\n",
    "X_opt = X_opt[:,cols_keep]\n",
    "X_test_B = X_test_B[:,cols_keep]\n",
    "model_MLR=sm.OLS(endog=y_train,exog=X_opt).fit()\n",
    "model_MLR.summary()"
   ]
  },
  {
   "cell_type": "code",
   "execution_count": null,
   "metadata": {},
   "outputs": [],
   "source": [
    "col_delete=10\n",
    "cols_keep=[]\n",
    "for x in range(X_opt.shape[1]):\n",
    "    if x != col_delete :\n",
    "        cols_keep.append(x)\n",
    "X_opt = X_opt[:,cols_keep]\n",
    "X_test_B = X_test_B[:,cols_keep]\n",
    "model_MLR=sm.OLS(endog=y_train,exog=X_opt).fit()\n",
    "model_MLR.summary()"
   ]
  },
  {
   "cell_type": "code",
   "execution_count": 79,
   "metadata": {
    "scrolled": true
   },
   "outputs": [
    {
     "data": {
      "text/html": [
       "<table class=\"simpletable\">\n",
       "<caption>OLS Regression Results</caption>\n",
       "<tr>\n",
       "  <th>Dep. Variable:</th>            <td>y</td>        <th>  R-squared:         </th> <td>   0.756</td> \n",
       "</tr>\n",
       "<tr>\n",
       "  <th>Model:</th>                   <td>OLS</td>       <th>  Adj. R-squared:    </th> <td>   0.754</td> \n",
       "</tr>\n",
       "<tr>\n",
       "  <th>Method:</th>             <td>Least Squares</td>  <th>  F-statistic:       </th> <td>   411.1</td> \n",
       "</tr>\n",
       "<tr>\n",
       "  <th>Date:</th>             <td>Mon, 08 Jun 2020</td> <th>  Prob (F-statistic):</th> <td>9.57e-319</td>\n",
       "</tr>\n",
       "<tr>\n",
       "  <th>Time:</th>                 <td>20:45:11</td>     <th>  Log-Likelihood:    </th> <td> -10828.</td> \n",
       "</tr>\n",
       "<tr>\n",
       "  <th>No. Observations:</th>      <td>  1070</td>      <th>  AIC:               </th> <td>2.167e+04</td>\n",
       "</tr>\n",
       "<tr>\n",
       "  <th>Df Residuals:</th>          <td>  1061</td>      <th>  BIC:               </th> <td>2.172e+04</td>\n",
       "</tr>\n",
       "<tr>\n",
       "  <th>Df Model:</th>              <td>     8</td>      <th>                     </th>     <td> </td>    \n",
       "</tr>\n",
       "<tr>\n",
       "  <th>Covariance Type:</th>      <td>nonrobust</td>    <th>                     </th>     <td> </td>    \n",
       "</tr>\n",
       "</table>\n",
       "<table class=\"simpletable\">\n",
       "<tr>\n",
       "    <td></td>       <th>coef</th>     <th>std err</th>      <th>t</th>      <th>P>|t|</th>  <th>[0.025</th>    <th>0.975]</th>  \n",
       "</tr>\n",
       "<tr>\n",
       "  <th>const</th> <td> 2147.1470</td> <td>  750.575</td> <td>    2.861</td> <td> 0.004</td> <td>  674.367</td> <td> 3619.927</td>\n",
       "</tr>\n",
       "<tr>\n",
       "  <th>x1</th>    <td>  214.3077</td> <td>   24.870</td> <td>    8.617</td> <td> 0.000</td> <td>  165.509</td> <td>  263.107</td>\n",
       "</tr>\n",
       "<tr>\n",
       "  <th>x2</th>    <td>  148.8843</td> <td>   50.225</td> <td>    2.964</td> <td> 0.003</td> <td>   50.333</td> <td>  247.436</td>\n",
       "</tr>\n",
       "<tr>\n",
       "  <th>x3</th>    <td>  553.9382</td> <td>  154.210</td> <td>    3.592</td> <td> 0.000</td> <td>  251.347</td> <td>  856.530</td>\n",
       "</tr>\n",
       "<tr>\n",
       "  <th>x4</th>    <td> 1154.1384</td> <td>  417.848</td> <td>    2.762</td> <td> 0.006</td> <td>  334.237</td> <td> 1974.040</td>\n",
       "</tr>\n",
       "<tr>\n",
       "  <th>x5</th>    <td>  993.0086</td> <td>  419.425</td> <td>    2.368</td> <td> 0.018</td> <td>  170.011</td> <td> 1816.006</td>\n",
       "</tr>\n",
       "<tr>\n",
       "  <th>x6</th>    <td>-1.081e+04</td> <td>  415.567</td> <td>  -26.003</td> <td> 0.000</td> <td>-1.16e+04</td> <td>-9990.465</td>\n",
       "</tr>\n",
       "<tr>\n",
       "  <th>x7</th>    <td> 1.295e+04</td> <td>  461.826</td> <td>   28.047</td> <td> 0.000</td> <td>  1.2e+04</td> <td> 1.39e+04</td>\n",
       "</tr>\n",
       "<tr>\n",
       "  <th>x8</th>    <td>  814.0550</td> <td>  435.470</td> <td>    1.869</td> <td> 0.062</td> <td>  -40.425</td> <td> 1668.535</td>\n",
       "</tr>\n",
       "<tr>\n",
       "  <th>x9</th>    <td> 2990.8228</td> <td>  609.549</td> <td>    4.907</td> <td> 0.000</td> <td> 1794.764</td> <td> 4186.881</td>\n",
       "</tr>\n",
       "<tr>\n",
       "  <th>x10</th>   <td> 1409.3480</td> <td>  708.809</td> <td>    1.988</td> <td> 0.047</td> <td>   18.521</td> <td> 2800.175</td>\n",
       "</tr>\n",
       "</table>\n",
       "<table class=\"simpletable\">\n",
       "<tr>\n",
       "  <th>Omnibus:</th>       <td>276.201</td> <th>  Durbin-Watson:     </th> <td>   2.012</td> \n",
       "</tr>\n",
       "<tr>\n",
       "  <th>Prob(Omnibus):</th> <td> 0.000</td>  <th>  Jarque-Bera (JB):  </th> <td> 720.279</td> \n",
       "</tr>\n",
       "<tr>\n",
       "  <th>Skew:</th>          <td> 1.339</td>  <th>  Prob(JB):          </th> <td>3.92e-157</td>\n",
       "</tr>\n",
       "<tr>\n",
       "  <th>Kurtosis:</th>      <td> 5.997</td>  <th>  Cond. No.          </th> <td>5.45e+17</td> \n",
       "</tr>\n",
       "</table><br/><br/>Warnings:<br/>[1] Standard Errors assume that the covariance matrix of the errors is correctly specified.<br/>[2] The smallest eigenvalue is 9.44e-30. This might indicate that there are<br/>strong multicollinearity problems or that the design matrix is singular."
      ],
      "text/plain": [
       "<class 'statsmodels.iolib.summary.Summary'>\n",
       "\"\"\"\n",
       "                            OLS Regression Results                            \n",
       "==============================================================================\n",
       "Dep. Variable:                      y   R-squared:                       0.756\n",
       "Model:                            OLS   Adj. R-squared:                  0.754\n",
       "Method:                 Least Squares   F-statistic:                     411.1\n",
       "Date:                Mon, 08 Jun 2020   Prob (F-statistic):          9.57e-319\n",
       "Time:                        20:45:11   Log-Likelihood:                -10828.\n",
       "No. Observations:                1070   AIC:                         2.167e+04\n",
       "Df Residuals:                    1061   BIC:                         2.172e+04\n",
       "Df Model:                           8                                         \n",
       "Covariance Type:            nonrobust                                         \n",
       "==============================================================================\n",
       "                 coef    std err          t      P>|t|      [0.025      0.975]\n",
       "------------------------------------------------------------------------------\n",
       "const       2147.1470    750.575      2.861      0.004     674.367    3619.927\n",
       "x1           214.3077     24.870      8.617      0.000     165.509     263.107\n",
       "x2           148.8843     50.225      2.964      0.003      50.333     247.436\n",
       "x3           553.9382    154.210      3.592      0.000     251.347     856.530\n",
       "x4          1154.1384    417.848      2.762      0.006     334.237    1974.040\n",
       "x5           993.0086    419.425      2.368      0.018     170.011    1816.006\n",
       "x6         -1.081e+04    415.567    -26.003      0.000   -1.16e+04   -9990.465\n",
       "x7          1.295e+04    461.826     28.047      0.000     1.2e+04    1.39e+04\n",
       "x8           814.0550    435.470      1.869      0.062     -40.425    1668.535\n",
       "x9          2990.8228    609.549      4.907      0.000    1794.764    4186.881\n",
       "x10         1409.3480    708.809      1.988      0.047      18.521    2800.175\n",
       "==============================================================================\n",
       "Omnibus:                      276.201   Durbin-Watson:                   2.012\n",
       "Prob(Omnibus):                  0.000   Jarque-Bera (JB):              720.279\n",
       "Skew:                           1.339   Prob(JB):                    3.92e-157\n",
       "Kurtosis:                       5.997   Cond. No.                     5.45e+17\n",
       "==============================================================================\n",
       "\n",
       "Warnings:\n",
       "[1] Standard Errors assume that the covariance matrix of the errors is correctly specified.\n",
       "[2] The smallest eigenvalue is 9.44e-30. This might indicate that there are\n",
       "strong multicollinearity problems or that the design matrix is singular.\n",
       "\"\"\""
      ]
     },
     "execution_count": 79,
     "metadata": {},
     "output_type": "execute_result"
    }
   ],
   "source": [
    "col_delete=9\n",
    "cols_keep=[]\n",
    "for x in range(X_opt.shape[1]):\n",
    "    if x != col_delete :\n",
    "        cols_keep.append(x)\n",
    "X_opt = X_opt[:,cols_keep]\n",
    "X_test_B = X_test_B[:,cols_keep]\n",
    "model_MLR=sm.OLS(endog=y_train,exog=X_opt).fit()\n",
    "model_MLR.summary()"
   ]
  },
  {
   "cell_type": "code",
   "execution_count": 80,
   "metadata": {
    "scrolled": true
   },
   "outputs": [
    {
     "data": {
      "text/html": [
       "<table class=\"simpletable\">\n",
       "<caption>OLS Regression Results</caption>\n",
       "<tr>\n",
       "  <th>Dep. Variable:</th>            <td>y</td>        <th>  R-squared:         </th> <td>   0.756</td> \n",
       "</tr>\n",
       "<tr>\n",
       "  <th>Model:</th>                   <td>OLS</td>       <th>  Adj. R-squared:    </th> <td>   0.754</td> \n",
       "</tr>\n",
       "<tr>\n",
       "  <th>Method:</th>             <td>Least Squares</td>  <th>  F-statistic:       </th> <td>   411.1</td> \n",
       "</tr>\n",
       "<tr>\n",
       "  <th>Date:</th>             <td>Mon, 08 Jun 2020</td> <th>  Prob (F-statistic):</th> <td>9.57e-319</td>\n",
       "</tr>\n",
       "<tr>\n",
       "  <th>Time:</th>                 <td>20:45:30</td>     <th>  Log-Likelihood:    </th> <td> -10828.</td> \n",
       "</tr>\n",
       "<tr>\n",
       "  <th>No. Observations:</th>      <td>  1070</td>      <th>  AIC:               </th> <td>2.167e+04</td>\n",
       "</tr>\n",
       "<tr>\n",
       "  <th>Df Residuals:</th>          <td>  1061</td>      <th>  BIC:               </th> <td>2.172e+04</td>\n",
       "</tr>\n",
       "<tr>\n",
       "  <th>Df Model:</th>              <td>     8</td>      <th>                     </th>     <td> </td>    \n",
       "</tr>\n",
       "<tr>\n",
       "  <th>Covariance Type:</th>      <td>nonrobust</td>    <th>                     </th>     <td> </td>    \n",
       "</tr>\n",
       "</table>\n",
       "<table class=\"simpletable\">\n",
       "<tr>\n",
       "    <td></td>       <th>coef</th>     <th>std err</th>      <th>t</th>      <th>P>|t|</th>  <th>[0.025</th>    <th>0.975]</th>  \n",
       "</tr>\n",
       "<tr>\n",
       "  <th>const</th> <td> 2809.1527</td> <td> 1008.962</td> <td>    2.784</td> <td> 0.005</td> <td>  829.365</td> <td> 4788.940</td>\n",
       "</tr>\n",
       "<tr>\n",
       "  <th>x1</th>    <td>  214.3077</td> <td>   24.870</td> <td>    8.617</td> <td> 0.000</td> <td>  165.509</td> <td>  263.107</td>\n",
       "</tr>\n",
       "<tr>\n",
       "  <th>x2</th>    <td>  148.8843</td> <td>   50.225</td> <td>    2.964</td> <td> 0.003</td> <td>   50.333</td> <td>  247.436</td>\n",
       "</tr>\n",
       "<tr>\n",
       "  <th>x3</th>    <td>  553.9382</td> <td>  154.210</td> <td>    3.592</td> <td> 0.000</td> <td>  251.347</td> <td>  856.530</td>\n",
       "</tr>\n",
       "<tr>\n",
       "  <th>x4</th>    <td>  161.1298</td> <td>  371.033</td> <td>    0.434</td> <td> 0.664</td> <td> -566.912</td> <td>  889.172</td>\n",
       "</tr>\n",
       "<tr>\n",
       "  <th>x5</th>    <td>-1.047e+04</td> <td>  530.790</td> <td>  -19.735</td> <td> 0.000</td> <td>-1.15e+04</td> <td>-9433.371</td>\n",
       "</tr>\n",
       "<tr>\n",
       "  <th>x6</th>    <td> 1.328e+04</td> <td>  575.814</td> <td>   23.070</td> <td> 0.000</td> <td> 1.22e+04</td> <td> 1.44e+04</td>\n",
       "</tr>\n",
       "<tr>\n",
       "  <th>x7</th>    <td>  814.0550</td> <td>  435.470</td> <td>    1.869</td> <td> 0.062</td> <td>  -40.425</td> <td> 1668.535</td>\n",
       "</tr>\n",
       "<tr>\n",
       "  <th>x8</th>    <td> 2990.8228</td> <td>  609.549</td> <td>    4.907</td> <td> 0.000</td> <td> 1794.764</td> <td> 4186.881</td>\n",
       "</tr>\n",
       "<tr>\n",
       "  <th>x9</th>    <td> 1409.3480</td> <td>  708.809</td> <td>    1.988</td> <td> 0.047</td> <td>   18.521</td> <td> 2800.175</td>\n",
       "</tr>\n",
       "</table>\n",
       "<table class=\"simpletable\">\n",
       "<tr>\n",
       "  <th>Omnibus:</th>       <td>276.201</td> <th>  Durbin-Watson:     </th> <td>   2.012</td> \n",
       "</tr>\n",
       "<tr>\n",
       "  <th>Prob(Omnibus):</th> <td> 0.000</td>  <th>  Jarque-Bera (JB):  </th> <td> 720.279</td> \n",
       "</tr>\n",
       "<tr>\n",
       "  <th>Skew:</th>          <td> 1.339</td>  <th>  Prob(JB):          </th> <td>3.92e-157</td>\n",
       "</tr>\n",
       "<tr>\n",
       "  <th>Kurtosis:</th>      <td> 5.997</td>  <th>  Cond. No.          </th> <td>3.98e+16</td> \n",
       "</tr>\n",
       "</table><br/><br/>Warnings:<br/>[1] Standard Errors assume that the covariance matrix of the errors is correctly specified.<br/>[2] The smallest eigenvalue is 1.77e-27. This might indicate that there are<br/>strong multicollinearity problems or that the design matrix is singular."
      ],
      "text/plain": [
       "<class 'statsmodels.iolib.summary.Summary'>\n",
       "\"\"\"\n",
       "                            OLS Regression Results                            \n",
       "==============================================================================\n",
       "Dep. Variable:                      y   R-squared:                       0.756\n",
       "Model:                            OLS   Adj. R-squared:                  0.754\n",
       "Method:                 Least Squares   F-statistic:                     411.1\n",
       "Date:                Mon, 08 Jun 2020   Prob (F-statistic):          9.57e-319\n",
       "Time:                        20:45:30   Log-Likelihood:                -10828.\n",
       "No. Observations:                1070   AIC:                         2.167e+04\n",
       "Df Residuals:                    1061   BIC:                         2.172e+04\n",
       "Df Model:                           8                                         \n",
       "Covariance Type:            nonrobust                                         \n",
       "==============================================================================\n",
       "                 coef    std err          t      P>|t|      [0.025      0.975]\n",
       "------------------------------------------------------------------------------\n",
       "const       2809.1527   1008.962      2.784      0.005     829.365    4788.940\n",
       "x1           214.3077     24.870      8.617      0.000     165.509     263.107\n",
       "x2           148.8843     50.225      2.964      0.003      50.333     247.436\n",
       "x3           553.9382    154.210      3.592      0.000     251.347     856.530\n",
       "x4           161.1298    371.033      0.434      0.664    -566.912     889.172\n",
       "x5         -1.047e+04    530.790    -19.735      0.000   -1.15e+04   -9433.371\n",
       "x6          1.328e+04    575.814     23.070      0.000    1.22e+04    1.44e+04\n",
       "x7           814.0550    435.470      1.869      0.062     -40.425    1668.535\n",
       "x8          2990.8228    609.549      4.907      0.000    1794.764    4186.881\n",
       "x9          1409.3480    708.809      1.988      0.047      18.521    2800.175\n",
       "==============================================================================\n",
       "Omnibus:                      276.201   Durbin-Watson:                   2.012\n",
       "Prob(Omnibus):                  0.000   Jarque-Bera (JB):              720.279\n",
       "Skew:                           1.339   Prob(JB):                    3.92e-157\n",
       "Kurtosis:                       5.997   Cond. No.                     3.98e+16\n",
       "==============================================================================\n",
       "\n",
       "Warnings:\n",
       "[1] Standard Errors assume that the covariance matrix of the errors is correctly specified.\n",
       "[2] The smallest eigenvalue is 1.77e-27. This might indicate that there are\n",
       "strong multicollinearity problems or that the design matrix is singular.\n",
       "\"\"\""
      ]
     },
     "execution_count": 80,
     "metadata": {},
     "output_type": "execute_result"
    }
   ],
   "source": [
    "col_delete=5\n",
    "cols_keep=[]\n",
    "for x in range(X_opt.shape[1]):\n",
    "    if x != col_delete :\n",
    "        cols_keep.append(x)\n",
    "X_opt = X_opt[:,cols_keep]\n",
    "X_test_B = X_test_B[:,cols_keep]\n",
    "model_MLR=sm.OLS(endog=y_train,exog=X_opt).fit()\n",
    "model_MLR.summary()"
   ]
  },
  {
   "cell_type": "code",
   "execution_count": 81,
   "metadata": {
    "scrolled": true
   },
   "outputs": [
    {
     "data": {
      "text/html": [
       "<table class=\"simpletable\">\n",
       "<caption>OLS Regression Results</caption>\n",
       "<tr>\n",
       "  <th>Dep. Variable:</th>            <td>y</td>        <th>  R-squared:         </th> <td>   0.756</td> \n",
       "</tr>\n",
       "<tr>\n",
       "  <th>Model:</th>                   <td>OLS</td>       <th>  Adj. R-squared:    </th> <td>   0.754</td> \n",
       "</tr>\n",
       "<tr>\n",
       "  <th>Method:</th>             <td>Least Squares</td>  <th>  F-statistic:       </th> <td>   470.1</td> \n",
       "</tr>\n",
       "<tr>\n",
       "  <th>Date:</th>             <td>Mon, 08 Jun 2020</td> <th>  Prob (F-statistic):</th> <td>4.68e-320</td>\n",
       "</tr>\n",
       "<tr>\n",
       "  <th>Time:</th>                 <td>20:46:16</td>     <th>  Log-Likelihood:    </th> <td> -10829.</td> \n",
       "</tr>\n",
       "<tr>\n",
       "  <th>No. Observations:</th>      <td>  1070</td>      <th>  AIC:               </th> <td>2.167e+04</td>\n",
       "</tr>\n",
       "<tr>\n",
       "  <th>Df Residuals:</th>          <td>  1062</td>      <th>  BIC:               </th> <td>2.171e+04</td>\n",
       "</tr>\n",
       "<tr>\n",
       "  <th>Df Model:</th>              <td>     7</td>      <th>                     </th>     <td> </td>    \n",
       "</tr>\n",
       "<tr>\n",
       "  <th>Covariance Type:</th>      <td>nonrobust</td>    <th>                     </th>     <td> </td>    \n",
       "</tr>\n",
       "</table>\n",
       "<table class=\"simpletable\">\n",
       "<tr>\n",
       "    <td></td>       <th>coef</th>     <th>std err</th>      <th>t</th>      <th>P>|t|</th>  <th>[0.025</th>    <th>0.975]</th>  \n",
       "</tr>\n",
       "<tr>\n",
       "  <th>const</th> <td> 2864.9242</td> <td> 1000.373</td> <td>    2.864</td> <td> 0.004</td> <td>  901.992</td> <td> 4827.856</td>\n",
       "</tr>\n",
       "<tr>\n",
       "  <th>x1</th>    <td>  214.4466</td> <td>   24.858</td> <td>    8.627</td> <td> 0.000</td> <td>  165.670</td> <td>  263.223</td>\n",
       "</tr>\n",
       "<tr>\n",
       "  <th>x2</th>    <td>  148.5940</td> <td>   50.201</td> <td>    2.960</td> <td> 0.003</td> <td>   50.089</td> <td>  247.099</td>\n",
       "</tr>\n",
       "<tr>\n",
       "  <th>x3</th>    <td>  551.1243</td> <td>  154.015</td> <td>    3.578</td> <td> 0.000</td> <td>  248.916</td> <td>  853.333</td>\n",
       "</tr>\n",
       "<tr>\n",
       "  <th>x4</th>    <td>-1.044e+04</td> <td>  524.285</td> <td>  -19.912</td> <td> 0.000</td> <td>-1.15e+04</td> <td>-9410.714</td>\n",
       "</tr>\n",
       "<tr>\n",
       "  <th>x5</th>    <td>  1.33e+04</td> <td>  573.685</td> <td>   23.191</td> <td> 0.000</td> <td> 1.22e+04</td> <td> 1.44e+04</td>\n",
       "</tr>\n",
       "<tr>\n",
       "  <th>x6</th>    <td>  814.4371</td> <td>  435.303</td> <td>    1.871</td> <td> 0.062</td> <td>  -39.714</td> <td> 1668.588</td>\n",
       "</tr>\n",
       "<tr>\n",
       "  <th>x7</th>    <td> 2985.6889</td> <td>  609.201</td> <td>    4.901</td> <td> 0.000</td> <td> 1790.314</td> <td> 4181.064</td>\n",
       "</tr>\n",
       "<tr>\n",
       "  <th>x8</th>    <td> 1408.9306</td> <td>  708.538</td> <td>    1.989</td> <td> 0.047</td> <td>   18.638</td> <td> 2799.223</td>\n",
       "</tr>\n",
       "</table>\n",
       "<table class=\"simpletable\">\n",
       "<tr>\n",
       "  <th>Omnibus:</th>       <td>276.849</td> <th>  Durbin-Watson:     </th> <td>   2.014</td> \n",
       "</tr>\n",
       "<tr>\n",
       "  <th>Prob(Omnibus):</th> <td> 0.000</td>  <th>  Jarque-Bera (JB):  </th> <td> 723.824</td> \n",
       "</tr>\n",
       "<tr>\n",
       "  <th>Skew:</th>          <td> 1.341</td>  <th>  Prob(JB):          </th> <td>6.66e-158</td>\n",
       "</tr>\n",
       "<tr>\n",
       "  <th>Kurtosis:</th>      <td> 6.007</td>  <th>  Cond. No.          </th> <td>4.00e+16</td> \n",
       "</tr>\n",
       "</table><br/><br/>Warnings:<br/>[1] Standard Errors assume that the covariance matrix of the errors is correctly specified.<br/>[2] The smallest eigenvalue is 1.75e-27. This might indicate that there are<br/>strong multicollinearity problems or that the design matrix is singular."
      ],
      "text/plain": [
       "<class 'statsmodels.iolib.summary.Summary'>\n",
       "\"\"\"\n",
       "                            OLS Regression Results                            \n",
       "==============================================================================\n",
       "Dep. Variable:                      y   R-squared:                       0.756\n",
       "Model:                            OLS   Adj. R-squared:                  0.754\n",
       "Method:                 Least Squares   F-statistic:                     470.1\n",
       "Date:                Mon, 08 Jun 2020   Prob (F-statistic):          4.68e-320\n",
       "Time:                        20:46:16   Log-Likelihood:                -10829.\n",
       "No. Observations:                1070   AIC:                         2.167e+04\n",
       "Df Residuals:                    1062   BIC:                         2.171e+04\n",
       "Df Model:                           7                                         \n",
       "Covariance Type:            nonrobust                                         \n",
       "==============================================================================\n",
       "                 coef    std err          t      P>|t|      [0.025      0.975]\n",
       "------------------------------------------------------------------------------\n",
       "const       2864.9242   1000.373      2.864      0.004     901.992    4827.856\n",
       "x1           214.4466     24.858      8.627      0.000     165.670     263.223\n",
       "x2           148.5940     50.201      2.960      0.003      50.089     247.099\n",
       "x3           551.1243    154.015      3.578      0.000     248.916     853.333\n",
       "x4         -1.044e+04    524.285    -19.912      0.000   -1.15e+04   -9410.714\n",
       "x5           1.33e+04    573.685     23.191      0.000    1.22e+04    1.44e+04\n",
       "x6           814.4371    435.303      1.871      0.062     -39.714    1668.588\n",
       "x7          2985.6889    609.201      4.901      0.000    1790.314    4181.064\n",
       "x8          1408.9306    708.538      1.989      0.047      18.638    2799.223\n",
       "==============================================================================\n",
       "Omnibus:                      276.849   Durbin-Watson:                   2.014\n",
       "Prob(Omnibus):                  0.000   Jarque-Bera (JB):              723.824\n",
       "Skew:                           1.341   Prob(JB):                    6.66e-158\n",
       "Kurtosis:                       6.007   Cond. No.                     4.00e+16\n",
       "==============================================================================\n",
       "\n",
       "Warnings:\n",
       "[1] Standard Errors assume that the covariance matrix of the errors is correctly specified.\n",
       "[2] The smallest eigenvalue is 1.75e-27. This might indicate that there are\n",
       "strong multicollinearity problems or that the design matrix is singular.\n",
       "\"\"\""
      ]
     },
     "execution_count": 81,
     "metadata": {},
     "output_type": "execute_result"
    }
   ],
   "source": [
    "col_delete=4\n",
    "cols_keep=[]\n",
    "for x in range(X_opt.shape[1]):\n",
    "    if x != col_delete :\n",
    "        cols_keep.append(x)\n",
    "X_opt = X_opt[:,cols_keep]\n",
    "X_test_B = X_test_B[:,cols_keep]\n",
    "model_MLR=sm.OLS(endog=y_train,exog=X_opt).fit()\n",
    "model_MLR.summary()"
   ]
  },
  {
   "cell_type": "code",
   "execution_count": null,
   "metadata": {},
   "outputs": [],
   "source": [
    "# backward elimination stops here. All p values are less than 0.05"
   ]
  },
  {
   "cell_type": "code",
   "execution_count": 82,
   "metadata": {
    "scrolled": false
   },
   "outputs": [
    {
     "data": {
      "text/plain": [
       "[0, 1, 2, 3, 5, 6, 7, 8, 9]"
      ]
     },
     "execution_count": 82,
     "metadata": {},
     "output_type": "execute_result"
    }
   ],
   "source": [
    "cols_keep"
   ]
  },
  {
   "cell_type": "code",
   "execution_count": 98,
   "metadata": {},
   "outputs": [
    {
     "data": {
      "text/plain": [
       "Index(['age', 'bmi', 'children', 'sex_female', 'sex_male', 'smoker_no',\n",
       "       'smoker_yes', 'region_northeast', 'region_northwest',\n",
       "       'region_southeast', 'region_southwest', 'bmi_cat_normal',\n",
       "       'bmi_cat_obese', 'bmi_cat_overweight', 'bmi_cat_underweight',\n",
       "       'age_cat_adult', 'age_cat_middle_age', 'age_cat_youth'],\n",
       "      dtype='object')"
      ]
     },
     "execution_count": 98,
     "metadata": {},
     "output_type": "execute_result"
    }
   ],
   "source": [
    "X_train.columns"
   ]
  },
  {
   "cell_type": "code",
   "execution_count": 108,
   "metadata": {},
   "outputs": [
    {
     "name": "stdout",
     "output_type": "stream",
     "text": [
      "Index(['age', 'bmi', 'children', 'sex_female'], dtype='object')\n",
      "Index(['smoker_no', 'smoker_yes', 'region_northeast', 'region_northwest',\n",
      "       'region_southeast'],\n",
      "      dtype='object')\n"
     ]
    }
   ],
   "source": [
    "print(X_train.columns[:4])\n",
    "print(X_train.columns[5:10])"
   ]
  },
  {
   "cell_type": "code",
   "execution_count": 60,
   "metadata": {},
   "outputs": [],
   "source": [
    "#creating new dataframe with features selected from backward elimination\n",
    "new_df_be = dfdummy[['age', 'bmi', 'children', 'sex_female','smoker_no', 'smoker_yes', 'region_northeast', 'region_northwest',\n",
    "       'region_southeast','charges']]"
   ]
  },
  {
   "cell_type": "code",
   "execution_count": 61,
   "metadata": {},
   "outputs": [],
   "source": [
    "#separating data into features and target\n",
    "X_new=new_df_be.drop('charges',axis=1).values\n",
    "y_new=new_df_be.charges.values"
   ]
  },
  {
   "cell_type": "code",
   "execution_count": 62,
   "metadata": {},
   "outputs": [],
   "source": [
    "from sklearn.preprocessing import StandardScaler"
   ]
  },
  {
   "cell_type": "code",
   "execution_count": 70,
   "metadata": {
    "scrolled": true
   },
   "outputs": [
    {
     "name": "stdout",
     "output_type": "stream",
     "text": [
      "CV Linear Regression (Backward Elim) R2 Score: 0.7304378077110828\n",
      "Train R2 Score: 0.7370262574551635\n",
      "Test R2 Score:, 0.7999876970680433\n",
      "Train RMSE: 0.5072\n",
      "Test RMSE: 0.4660\n"
     ]
    }
   ],
   "source": [
    "#train test split\n",
    "X_train_reduced, X_test_reduced, y_train_reduced, y_test_reduced = train_test_split(X_new, y_new, test_size = 0.2, random_state = 0)\n",
    "scaler = StandardScaler()\n",
    "scaled_new_df = pd.DataFrame(new_df_be)\n",
    "std_charges = scaler.fit_transform(scaled_new_df[['charges']])\n",
    "std_bmi = scaler.fit_transform(scaled_new_df[['bmi']])\n",
    "std_age = scaler.fit_transform(scaled_new_df[['age']])\n",
    "\n",
    "linreg_scaled_be = LinearRegression().fit(X_train_reduced,y_train_reduced)\n",
    "\n",
    "#cross validation\n",
    "cv_linreg_elim=np.mean(cross_val_score(linreg_scaled_be,X_train_reduced,y_train_reduced,scoring='r2',cv=5))\n",
    "print(\"CV Linear Regression (Backward Elim) R2 Score:\", cv_linreg_elim)\n",
    "\n",
    "#predict on scaled and selected features from backward elimination\n",
    "y_train_pred = linreg_scaled_be.predict(X_train_reduced)\n",
    "y_test_pred = linreg_scaled_be.predict(X_test_reduced)\n",
    "    \n",
    "#scores and errors\n",
    "print(\"Train R2 Score:\", r2_score(y_train_reduced, y_train_pred))\n",
    "print(\"Test R2 Score:,\", r2_score(y_test_reduced, y_test_pred))\n",
    "train_rmse = np.sqrt(mean_squared_error(y_train_reduced, y_train_pred))\n",
    "test_rmse = np.sqrt(mean_squared_error(y_test_reduced, y_test_pred))\n",
    "print(\"Train RMSE: %.4f\" % train_rmse)\n",
    "print(\"Test RMSE: %.4f\" % test_rmse)"
   ]
  },
  {
   "cell_type": "markdown",
   "metadata": {},
   "source": [
    "# Compare Algorithms"
   ]
  },
  {
   "cell_type": "code",
   "execution_count": 88,
   "metadata": {},
   "outputs": [],
   "source": [
    "#compare the 4 models by cross validation scores\n",
    "from sklearn import model_selection\n",
    "\n",
    "outcome = []\n",
    "model_names = []\n",
    "models = [('Linear Regression', cv_linreg), \n",
    "          ('Linear Regresion Backward Elim', cv_linreg_elim), \n",
    "          ('Polynomial Regression', cv_poly),\n",
    "          ('Lasso', cv_lasso)]"
   ]
  },
  {
   "cell_type": "code",
   "execution_count": 96,
   "metadata": {},
   "outputs": [
    {
     "data": {
      "text/html": [
       "<div>\n",
       "<style scoped>\n",
       "    .dataframe tbody tr th:only-of-type {\n",
       "        vertical-align: middle;\n",
       "    }\n",
       "\n",
       "    .dataframe tbody tr th {\n",
       "        vertical-align: top;\n",
       "    }\n",
       "\n",
       "    .dataframe thead th {\n",
       "        text-align: right;\n",
       "    }\n",
       "</style>\n",
       "<table border=\"1\" class=\"dataframe\">\n",
       "  <thead>\n",
       "    <tr style=\"text-align: right;\">\n",
       "      <th></th>\n",
       "      <th>Model</th>\n",
       "      <th>CV</th>\n",
       "    </tr>\n",
       "  </thead>\n",
       "  <tbody>\n",
       "    <tr>\n",
       "      <th>0</th>\n",
       "      <td>Linear Regression</td>\n",
       "      <td>0.763492</td>\n",
       "    </tr>\n",
       "    <tr>\n",
       "      <th>1</th>\n",
       "      <td>Linear Regresion Backward Elim</td>\n",
       "      <td>0.730438</td>\n",
       "    </tr>\n",
       "    <tr>\n",
       "      <th>2</th>\n",
       "      <td>Polynomial Regression</td>\n",
       "      <td>0.738222</td>\n",
       "    </tr>\n",
       "    <tr>\n",
       "      <th>3</th>\n",
       "      <td>Lasso</td>\n",
       "      <td>0.763576</td>\n",
       "    </tr>\n",
       "  </tbody>\n",
       "</table>\n",
       "</div>"
      ],
      "text/plain": [
       "                            Model        CV\n",
       "0               Linear Regression  0.763492\n",
       "1  Linear Regresion Backward Elim  0.730438\n",
       "2           Polynomial Regression  0.738222\n",
       "3                           Lasso  0.763576"
      ]
     },
     "execution_count": 96,
     "metadata": {},
     "output_type": "execute_result"
    }
   ],
   "source": [
    "algorithms = pd.DataFrame(data = models, columns=['Model','CV'])\n",
    "algorithms"
   ]
  },
  {
   "cell_type": "code",
   "execution_count": 103,
   "metadata": {},
   "outputs": [
    {
     "data": {
      "image/png": "[encoded data removed]",
      "text/plain": [
       "<Figure size 720x288 with 1 Axes>"
      ]
     },
     "metadata": {},
     "output_type": "display_data"
    }
   ],
   "source": [
    "f, axe = plt.subplots(1,1, figsize=(10,4))\n",
    "\n",
    "algorithms.sort_values(by=['CV'], ascending=False, inplace=True)\n",
    "\n",
    "sns.barplot(x='CV', y='Model', data = algorithms, ax = axe, palette='Set2')\n",
    "axe.set_xlabel('Cross-Validaton R2 Score', size=16)\n",
    "axe.set_ylabel('Algorithm')\n",
    "axe.set_xlim(0,1.0)\n",
    "axe.set_xticks(np.arange(0, 1.1, 0.1))\n",
    "plt.show()"
   ]
  },
  {
   "cell_type": "code",
   "execution_count": null,
   "metadata": {},
   "outputs": [],
   "source": []
  }
 ],
 "metadata": {
  "kernelspec": {
   "display_name": "Python 3",
   "language": "python",
   "name": "python3"
  },
  "language_info": {
   "codemirror_mode": {
    "name": "ipython",
    "version": 3
   },
   "file_extension": ".py",
   "mimetype": "text/x-python",
   "name": "python",
   "nbconvert_exporter": "python",
   "pygments_lexer": "ipython3",
   "version": "3.7.6"
  }
 },
 "nbformat": 4,
 "nbformat_minor": 4
}
